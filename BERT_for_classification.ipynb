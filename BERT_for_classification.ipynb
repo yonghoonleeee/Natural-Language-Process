{
  "nbformat": 4,
  "nbformat_minor": 0,
  "metadata": {
    "kernelspec": {
      "name": "python3",
      "display_name": "Python 3"
    },
    "language_info": {
      "codemirror_mode": {
        "name": "ipython",
        "version": 3
      },
      "file_extension": ".py",
      "mimetype": "text/x-python",
      "name": "python",
      "nbconvert_exporter": "python",
      "pygments_lexer": "ipython3",
      "version": "3.6.8"
    },
    "colab": {
      "name": "BERT_for_classification.ipynb",
      "provenance": [],
      "collapsed_sections": [],
      "include_colab_link": true
    },
    "accelerator": "GPU",
    "widgets": {
      "application/vnd.jupyter.widget-state+json": {
        "e975997045e34db398d95f9adce032df": {
          "model_module": "@jupyter-widgets/controls",
          "model_name": "HBoxModel",
          "state": {
            "_view_name": "HBoxView",
            "_dom_classes": [],
            "_model_name": "HBoxModel",
            "_view_module": "@jupyter-widgets/controls",
            "_model_module_version": "1.5.0",
            "_view_count": null,
            "_view_module_version": "1.5.0",
            "box_style": "",
            "layout": "IPY_MODEL_e1043a043d264e39bdf5882085ca7f1e",
            "_model_module": "@jupyter-widgets/controls",
            "children": [
              "IPY_MODEL_ce363b31476a4acaa6f5953dfebf4023",
              "IPY_MODEL_ea011ca4c5724c0ca48e98fda634c9e6"
            ]
          }
        },
        "e1043a043d264e39bdf5882085ca7f1e": {
          "model_module": "@jupyter-widgets/base",
          "model_name": "LayoutModel",
          "state": {
            "_view_name": "LayoutView",
            "grid_template_rows": null,
            "right": null,
            "justify_content": null,
            "_view_module": "@jupyter-widgets/base",
            "overflow": null,
            "_model_module_version": "1.2.0",
            "_view_count": null,
            "flex_flow": null,
            "width": null,
            "min_width": null,
            "border": null,
            "align_items": null,
            "bottom": null,
            "_model_module": "@jupyter-widgets/base",
            "top": null,
            "grid_column": null,
            "overflow_y": null,
            "overflow_x": null,
            "grid_auto_flow": null,
            "grid_area": null,
            "grid_template_columns": null,
            "flex": null,
            "_model_name": "LayoutModel",
            "justify_items": null,
            "grid_row": null,
            "max_height": null,
            "align_content": null,
            "visibility": null,
            "align_self": null,
            "height": null,
            "min_height": null,
            "padding": null,
            "grid_auto_rows": null,
            "grid_gap": null,
            "max_width": null,
            "order": null,
            "_view_module_version": "1.2.0",
            "grid_template_areas": null,
            "object_position": null,
            "object_fit": null,
            "grid_auto_columns": null,
            "margin": null,
            "display": null,
            "left": null
          }
        },
        "ce363b31476a4acaa6f5953dfebf4023": {
          "model_module": "@jupyter-widgets/controls",
          "model_name": "FloatProgressModel",
          "state": {
            "_view_name": "ProgressView",
            "style": "IPY_MODEL_928d2abc37e14c03a16c1c8b69fdec9a",
            "_dom_classes": [],
            "description": "Downloading: 100%",
            "_model_name": "FloatProgressModel",
            "bar_style": "success",
            "max": 231508,
            "_view_module": "@jupyter-widgets/controls",
            "_model_module_version": "1.5.0",
            "value": 231508,
            "_view_count": null,
            "_view_module_version": "1.5.0",
            "orientation": "horizontal",
            "min": 0,
            "description_tooltip": null,
            "_model_module": "@jupyter-widgets/controls",
            "layout": "IPY_MODEL_fb30ca8da65a48869f38839d75c9bedc"
          }
        },
        "ea011ca4c5724c0ca48e98fda634c9e6": {
          "model_module": "@jupyter-widgets/controls",
          "model_name": "HTMLModel",
          "state": {
            "_view_name": "HTMLView",
            "style": "IPY_MODEL_2f29ff48addb4f9597e0460068933942",
            "_dom_classes": [],
            "description": "",
            "_model_name": "HTMLModel",
            "placeholder": "​",
            "_view_module": "@jupyter-widgets/controls",
            "_model_module_version": "1.5.0",
            "value": " 232k/232k [00:00&lt;00:00, 1.43MB/s]",
            "_view_count": null,
            "_view_module_version": "1.5.0",
            "description_tooltip": null,
            "_model_module": "@jupyter-widgets/controls",
            "layout": "IPY_MODEL_d0d93561cce44d4f8e0a1b2fb8e48a16"
          }
        },
        "928d2abc37e14c03a16c1c8b69fdec9a": {
          "model_module": "@jupyter-widgets/controls",
          "model_name": "ProgressStyleModel",
          "state": {
            "_view_name": "StyleView",
            "_model_name": "ProgressStyleModel",
            "description_width": "initial",
            "_view_module": "@jupyter-widgets/base",
            "_model_module_version": "1.5.0",
            "_view_count": null,
            "_view_module_version": "1.2.0",
            "bar_color": null,
            "_model_module": "@jupyter-widgets/controls"
          }
        },
        "fb30ca8da65a48869f38839d75c9bedc": {
          "model_module": "@jupyter-widgets/base",
          "model_name": "LayoutModel",
          "state": {
            "_view_name": "LayoutView",
            "grid_template_rows": null,
            "right": null,
            "justify_content": null,
            "_view_module": "@jupyter-widgets/base",
            "overflow": null,
            "_model_module_version": "1.2.0",
            "_view_count": null,
            "flex_flow": null,
            "width": null,
            "min_width": null,
            "border": null,
            "align_items": null,
            "bottom": null,
            "_model_module": "@jupyter-widgets/base",
            "top": null,
            "grid_column": null,
            "overflow_y": null,
            "overflow_x": null,
            "grid_auto_flow": null,
            "grid_area": null,
            "grid_template_columns": null,
            "flex": null,
            "_model_name": "LayoutModel",
            "justify_items": null,
            "grid_row": null,
            "max_height": null,
            "align_content": null,
            "visibility": null,
            "align_self": null,
            "height": null,
            "min_height": null,
            "padding": null,
            "grid_auto_rows": null,
            "grid_gap": null,
            "max_width": null,
            "order": null,
            "_view_module_version": "1.2.0",
            "grid_template_areas": null,
            "object_position": null,
            "object_fit": null,
            "grid_auto_columns": null,
            "margin": null,
            "display": null,
            "left": null
          }
        },
        "2f29ff48addb4f9597e0460068933942": {
          "model_module": "@jupyter-widgets/controls",
          "model_name": "DescriptionStyleModel",
          "state": {
            "_view_name": "StyleView",
            "_model_name": "DescriptionStyleModel",
            "description_width": "",
            "_view_module": "@jupyter-widgets/base",
            "_model_module_version": "1.5.0",
            "_view_count": null,
            "_view_module_version": "1.2.0",
            "_model_module": "@jupyter-widgets/controls"
          }
        },
        "d0d93561cce44d4f8e0a1b2fb8e48a16": {
          "model_module": "@jupyter-widgets/base",
          "model_name": "LayoutModel",
          "state": {
            "_view_name": "LayoutView",
            "grid_template_rows": null,
            "right": null,
            "justify_content": null,
            "_view_module": "@jupyter-widgets/base",
            "overflow": null,
            "_model_module_version": "1.2.0",
            "_view_count": null,
            "flex_flow": null,
            "width": null,
            "min_width": null,
            "border": null,
            "align_items": null,
            "bottom": null,
            "_model_module": "@jupyter-widgets/base",
            "top": null,
            "grid_column": null,
            "overflow_y": null,
            "overflow_x": null,
            "grid_auto_flow": null,
            "grid_area": null,
            "grid_template_columns": null,
            "flex": null,
            "_model_name": "LayoutModel",
            "justify_items": null,
            "grid_row": null,
            "max_height": null,
            "align_content": null,
            "visibility": null,
            "align_self": null,
            "height": null,
            "min_height": null,
            "padding": null,
            "grid_auto_rows": null,
            "grid_gap": null,
            "max_width": null,
            "order": null,
            "_view_module_version": "1.2.0",
            "grid_template_areas": null,
            "object_position": null,
            "object_fit": null,
            "grid_auto_columns": null,
            "margin": null,
            "display": null,
            "left": null
          }
        },
        "37876a2ec60a44af94dd8ab3e4079be3": {
          "model_module": "@jupyter-widgets/controls",
          "model_name": "HBoxModel",
          "state": {
            "_view_name": "HBoxView",
            "_dom_classes": [],
            "_model_name": "HBoxModel",
            "_view_module": "@jupyter-widgets/controls",
            "_model_module_version": "1.5.0",
            "_view_count": null,
            "_view_module_version": "1.5.0",
            "box_style": "",
            "layout": "IPY_MODEL_7f88f56a43eb4ada9a20b69430f25c84",
            "_model_module": "@jupyter-widgets/controls",
            "children": [
              "IPY_MODEL_7d1154c8f1334c9ab48b42902f284829",
              "IPY_MODEL_1a3d3d5da9e04390bd5e0ab64c6fd9df"
            ]
          }
        },
        "7f88f56a43eb4ada9a20b69430f25c84": {
          "model_module": "@jupyter-widgets/base",
          "model_name": "LayoutModel",
          "state": {
            "_view_name": "LayoutView",
            "grid_template_rows": null,
            "right": null,
            "justify_content": null,
            "_view_module": "@jupyter-widgets/base",
            "overflow": null,
            "_model_module_version": "1.2.0",
            "_view_count": null,
            "flex_flow": null,
            "width": null,
            "min_width": null,
            "border": null,
            "align_items": null,
            "bottom": null,
            "_model_module": "@jupyter-widgets/base",
            "top": null,
            "grid_column": null,
            "overflow_y": null,
            "overflow_x": null,
            "grid_auto_flow": null,
            "grid_area": null,
            "grid_template_columns": null,
            "flex": null,
            "_model_name": "LayoutModel",
            "justify_items": null,
            "grid_row": null,
            "max_height": null,
            "align_content": null,
            "visibility": null,
            "align_self": null,
            "height": null,
            "min_height": null,
            "padding": null,
            "grid_auto_rows": null,
            "grid_gap": null,
            "max_width": null,
            "order": null,
            "_view_module_version": "1.2.0",
            "grid_template_areas": null,
            "object_position": null,
            "object_fit": null,
            "grid_auto_columns": null,
            "margin": null,
            "display": null,
            "left": null
          }
        },
        "7d1154c8f1334c9ab48b42902f284829": {
          "model_module": "@jupyter-widgets/controls",
          "model_name": "FloatProgressModel",
          "state": {
            "_view_name": "ProgressView",
            "style": "IPY_MODEL_debe4481017b4088ae3fa548980f5959",
            "_dom_classes": [],
            "description": "Downloading: 100%",
            "_model_name": "FloatProgressModel",
            "bar_style": "success",
            "max": 433,
            "_view_module": "@jupyter-widgets/controls",
            "_model_module_version": "1.5.0",
            "value": 433,
            "_view_count": null,
            "_view_module_version": "1.5.0",
            "orientation": "horizontal",
            "min": 0,
            "description_tooltip": null,
            "_model_module": "@jupyter-widgets/controls",
            "layout": "IPY_MODEL_b2c0af1d01cd4e6eb5bb6d252a213794"
          }
        },
        "1a3d3d5da9e04390bd5e0ab64c6fd9df": {
          "model_module": "@jupyter-widgets/controls",
          "model_name": "HTMLModel",
          "state": {
            "_view_name": "HTMLView",
            "style": "IPY_MODEL_e4b5c56e4f1040e5a2eda87973aa6da4",
            "_dom_classes": [],
            "description": "",
            "_model_name": "HTMLModel",
            "placeholder": "​",
            "_view_module": "@jupyter-widgets/controls",
            "_model_module_version": "1.5.0",
            "value": " 433/433 [00:14&lt;00:00, 30.8B/s]",
            "_view_count": null,
            "_view_module_version": "1.5.0",
            "description_tooltip": null,
            "_model_module": "@jupyter-widgets/controls",
            "layout": "IPY_MODEL_c9a4f4d18c174a1c9765b71ce03cf9a4"
          }
        },
        "debe4481017b4088ae3fa548980f5959": {
          "model_module": "@jupyter-widgets/controls",
          "model_name": "ProgressStyleModel",
          "state": {
            "_view_name": "StyleView",
            "_model_name": "ProgressStyleModel",
            "description_width": "initial",
            "_view_module": "@jupyter-widgets/base",
            "_model_module_version": "1.5.0",
            "_view_count": null,
            "_view_module_version": "1.2.0",
            "bar_color": null,
            "_model_module": "@jupyter-widgets/controls"
          }
        },
        "b2c0af1d01cd4e6eb5bb6d252a213794": {
          "model_module": "@jupyter-widgets/base",
          "model_name": "LayoutModel",
          "state": {
            "_view_name": "LayoutView",
            "grid_template_rows": null,
            "right": null,
            "justify_content": null,
            "_view_module": "@jupyter-widgets/base",
            "overflow": null,
            "_model_module_version": "1.2.0",
            "_view_count": null,
            "flex_flow": null,
            "width": null,
            "min_width": null,
            "border": null,
            "align_items": null,
            "bottom": null,
            "_model_module": "@jupyter-widgets/base",
            "top": null,
            "grid_column": null,
            "overflow_y": null,
            "overflow_x": null,
            "grid_auto_flow": null,
            "grid_area": null,
            "grid_template_columns": null,
            "flex": null,
            "_model_name": "LayoutModel",
            "justify_items": null,
            "grid_row": null,
            "max_height": null,
            "align_content": null,
            "visibility": null,
            "align_self": null,
            "height": null,
            "min_height": null,
            "padding": null,
            "grid_auto_rows": null,
            "grid_gap": null,
            "max_width": null,
            "order": null,
            "_view_module_version": "1.2.0",
            "grid_template_areas": null,
            "object_position": null,
            "object_fit": null,
            "grid_auto_columns": null,
            "margin": null,
            "display": null,
            "left": null
          }
        },
        "e4b5c56e4f1040e5a2eda87973aa6da4": {
          "model_module": "@jupyter-widgets/controls",
          "model_name": "DescriptionStyleModel",
          "state": {
            "_view_name": "StyleView",
            "_model_name": "DescriptionStyleModel",
            "description_width": "",
            "_view_module": "@jupyter-widgets/base",
            "_model_module_version": "1.5.0",
            "_view_count": null,
            "_view_module_version": "1.2.0",
            "_model_module": "@jupyter-widgets/controls"
          }
        },
        "c9a4f4d18c174a1c9765b71ce03cf9a4": {
          "model_module": "@jupyter-widgets/base",
          "model_name": "LayoutModel",
          "state": {
            "_view_name": "LayoutView",
            "grid_template_rows": null,
            "right": null,
            "justify_content": null,
            "_view_module": "@jupyter-widgets/base",
            "overflow": null,
            "_model_module_version": "1.2.0",
            "_view_count": null,
            "flex_flow": null,
            "width": null,
            "min_width": null,
            "border": null,
            "align_items": null,
            "bottom": null,
            "_model_module": "@jupyter-widgets/base",
            "top": null,
            "grid_column": null,
            "overflow_y": null,
            "overflow_x": null,
            "grid_auto_flow": null,
            "grid_area": null,
            "grid_template_columns": null,
            "flex": null,
            "_model_name": "LayoutModel",
            "justify_items": null,
            "grid_row": null,
            "max_height": null,
            "align_content": null,
            "visibility": null,
            "align_self": null,
            "height": null,
            "min_height": null,
            "padding": null,
            "grid_auto_rows": null,
            "grid_gap": null,
            "max_width": null,
            "order": null,
            "_view_module_version": "1.2.0",
            "grid_template_areas": null,
            "object_position": null,
            "object_fit": null,
            "grid_auto_columns": null,
            "margin": null,
            "display": null,
            "left": null
          }
        },
        "a80a87fb9917495c8ceee704cacdaec3": {
          "model_module": "@jupyter-widgets/controls",
          "model_name": "HBoxModel",
          "state": {
            "_view_name": "HBoxView",
            "_dom_classes": [],
            "_model_name": "HBoxModel",
            "_view_module": "@jupyter-widgets/controls",
            "_model_module_version": "1.5.0",
            "_view_count": null,
            "_view_module_version": "1.5.0",
            "box_style": "",
            "layout": "IPY_MODEL_a752a634ff6247d1bf933284d3c705b9",
            "_model_module": "@jupyter-widgets/controls",
            "children": [
              "IPY_MODEL_8e9d47f660674404be31de12e74baff6",
              "IPY_MODEL_4e8768d158e346cc8ed560dbd17f372f"
            ]
          }
        },
        "a752a634ff6247d1bf933284d3c705b9": {
          "model_module": "@jupyter-widgets/base",
          "model_name": "LayoutModel",
          "state": {
            "_view_name": "LayoutView",
            "grid_template_rows": null,
            "right": null,
            "justify_content": null,
            "_view_module": "@jupyter-widgets/base",
            "overflow": null,
            "_model_module_version": "1.2.0",
            "_view_count": null,
            "flex_flow": null,
            "width": null,
            "min_width": null,
            "border": null,
            "align_items": null,
            "bottom": null,
            "_model_module": "@jupyter-widgets/base",
            "top": null,
            "grid_column": null,
            "overflow_y": null,
            "overflow_x": null,
            "grid_auto_flow": null,
            "grid_area": null,
            "grid_template_columns": null,
            "flex": null,
            "_model_name": "LayoutModel",
            "justify_items": null,
            "grid_row": null,
            "max_height": null,
            "align_content": null,
            "visibility": null,
            "align_self": null,
            "height": null,
            "min_height": null,
            "padding": null,
            "grid_auto_rows": null,
            "grid_gap": null,
            "max_width": null,
            "order": null,
            "_view_module_version": "1.2.0",
            "grid_template_areas": null,
            "object_position": null,
            "object_fit": null,
            "grid_auto_columns": null,
            "margin": null,
            "display": null,
            "left": null
          }
        },
        "8e9d47f660674404be31de12e74baff6": {
          "model_module": "@jupyter-widgets/controls",
          "model_name": "FloatProgressModel",
          "state": {
            "_view_name": "ProgressView",
            "style": "IPY_MODEL_24bcb506a97d4ce8878d4078a6be2f00",
            "_dom_classes": [],
            "description": "Downloading: 100%",
            "_model_name": "FloatProgressModel",
            "bar_style": "success",
            "max": 440473133,
            "_view_module": "@jupyter-widgets/controls",
            "_model_module_version": "1.5.0",
            "value": 440473133,
            "_view_count": null,
            "_view_module_version": "1.5.0",
            "orientation": "horizontal",
            "min": 0,
            "description_tooltip": null,
            "_model_module": "@jupyter-widgets/controls",
            "layout": "IPY_MODEL_956ae416a1b045139e96aca8141a4561"
          }
        },
        "4e8768d158e346cc8ed560dbd17f372f": {
          "model_module": "@jupyter-widgets/controls",
          "model_name": "HTMLModel",
          "state": {
            "_view_name": "HTMLView",
            "style": "IPY_MODEL_e9892c53bf3143719dc4514e5f5c2737",
            "_dom_classes": [],
            "description": "",
            "_model_name": "HTMLModel",
            "placeholder": "​",
            "_view_module": "@jupyter-widgets/controls",
            "_model_module_version": "1.5.0",
            "value": " 440M/440M [00:10&lt;00:00, 43.2MB/s]",
            "_view_count": null,
            "_view_module_version": "1.5.0",
            "description_tooltip": null,
            "_model_module": "@jupyter-widgets/controls",
            "layout": "IPY_MODEL_e56a5f45dacf46f9a1e357a1fa7452a1"
          }
        },
        "24bcb506a97d4ce8878d4078a6be2f00": {
          "model_module": "@jupyter-widgets/controls",
          "model_name": "ProgressStyleModel",
          "state": {
            "_view_name": "StyleView",
            "_model_name": "ProgressStyleModel",
            "description_width": "initial",
            "_view_module": "@jupyter-widgets/base",
            "_model_module_version": "1.5.0",
            "_view_count": null,
            "_view_module_version": "1.2.0",
            "bar_color": null,
            "_model_module": "@jupyter-widgets/controls"
          }
        },
        "956ae416a1b045139e96aca8141a4561": {
          "model_module": "@jupyter-widgets/base",
          "model_name": "LayoutModel",
          "state": {
            "_view_name": "LayoutView",
            "grid_template_rows": null,
            "right": null,
            "justify_content": null,
            "_view_module": "@jupyter-widgets/base",
            "overflow": null,
            "_model_module_version": "1.2.0",
            "_view_count": null,
            "flex_flow": null,
            "width": null,
            "min_width": null,
            "border": null,
            "align_items": null,
            "bottom": null,
            "_model_module": "@jupyter-widgets/base",
            "top": null,
            "grid_column": null,
            "overflow_y": null,
            "overflow_x": null,
            "grid_auto_flow": null,
            "grid_area": null,
            "grid_template_columns": null,
            "flex": null,
            "_model_name": "LayoutModel",
            "justify_items": null,
            "grid_row": null,
            "max_height": null,
            "align_content": null,
            "visibility": null,
            "align_self": null,
            "height": null,
            "min_height": null,
            "padding": null,
            "grid_auto_rows": null,
            "grid_gap": null,
            "max_width": null,
            "order": null,
            "_view_module_version": "1.2.0",
            "grid_template_areas": null,
            "object_position": null,
            "object_fit": null,
            "grid_auto_columns": null,
            "margin": null,
            "display": null,
            "left": null
          }
        },
        "e9892c53bf3143719dc4514e5f5c2737": {
          "model_module": "@jupyter-widgets/controls",
          "model_name": "DescriptionStyleModel",
          "state": {
            "_view_name": "StyleView",
            "_model_name": "DescriptionStyleModel",
            "description_width": "",
            "_view_module": "@jupyter-widgets/base",
            "_model_module_version": "1.5.0",
            "_view_count": null,
            "_view_module_version": "1.2.0",
            "_model_module": "@jupyter-widgets/controls"
          }
        },
        "e56a5f45dacf46f9a1e357a1fa7452a1": {
          "model_module": "@jupyter-widgets/base",
          "model_name": "LayoutModel",
          "state": {
            "_view_name": "LayoutView",
            "grid_template_rows": null,
            "right": null,
            "justify_content": null,
            "_view_module": "@jupyter-widgets/base",
            "overflow": null,
            "_model_module_version": "1.2.0",
            "_view_count": null,
            "flex_flow": null,
            "width": null,
            "min_width": null,
            "border": null,
            "align_items": null,
            "bottom": null,
            "_model_module": "@jupyter-widgets/base",
            "top": null,
            "grid_column": null,
            "overflow_y": null,
            "overflow_x": null,
            "grid_auto_flow": null,
            "grid_area": null,
            "grid_template_columns": null,
            "flex": null,
            "_model_name": "LayoutModel",
            "justify_items": null,
            "grid_row": null,
            "max_height": null,
            "align_content": null,
            "visibility": null,
            "align_self": null,
            "height": null,
            "min_height": null,
            "padding": null,
            "grid_auto_rows": null,
            "grid_gap": null,
            "max_width": null,
            "order": null,
            "_view_module_version": "1.2.0",
            "grid_template_areas": null,
            "object_position": null,
            "object_fit": null,
            "grid_auto_columns": null,
            "margin": null,
            "display": null,
            "left": null
          }
        }
      }
    }
  },
  "cells": [
    {
      "cell_type": "markdown",
      "metadata": {
        "id": "view-in-github",
        "colab_type": "text"
      },
      "source": [
        "<a href=\"https://colab.research.google.com/github/yonghoonleeee/Natural-Language-Process/blob/master/BERT_for_classification.ipynb\" target=\"_parent\"><img src=\"https://colab.research.google.com/assets/colab-badge.svg\" alt=\"Open In Colab\"/></a>"
      ]
    },
    {
      "cell_type": "markdown",
      "metadata": {
        "id": "MWmuv8wwoi5X",
        "colab_type": "text"
      },
      "source": [
        "# [SEP 592] BERT Fine-Tuning Tutorial with PyTorch\n",
        "\n",
        "Primary TA: 이영준\n",
        "\n",
        "Mobile: +82-10-5039-2961\n",
        "\n",
        "TA's E-mail: passing2961@gmail.com, yj2961@kaist.ac.kr\n",
        "\n",
        "Lab Homepage: https://keai.kaist.ac.kr/\n",
        "\n",
        "본 실습에서는 `huggingface` PyTorch 라이브러리를 이용하여 sentiment classification에서 BERT 를 어떻게 fine-tuning 하는지에 대한 부분을 설명합니다. 또한, BERT 모델을 fine-tuning 하기 위해 amazon review 데이터를 사용합니다. \n",
        "\n",
        "## Introduction\n",
        "\n",
        "<center><img src=\"https://github.com/passing2961/KEMC/blob/master/cv.png?raw=true\" width=\"80%\" height=\"80%\" title=\"cv\" alt=\"cv\"></img></center>\n",
        "\n",
        "[VGGNet]: https://arxiv.org/pdf/1409.1556\n",
        "[GoogLeNet]: https://arxiv.org/pdf/1409.4842\n",
        "[ResNet]: https://arxiv.org/abs/1512.03385\n",
        "\n",
        "[word2vec]: https://papers.nips.cc/paper/5021-distributed-representations-of-words-and-phrases-and-their-compositionality.pdf\n",
        "[GloVe]: https://www.aclweb.org/anthology/D14-1162\n",
        "[fastText]: https://arxiv.org/abs/1607.04606\n",
        "\n",
        "[Semi-Supervised Sequence Learning]: https://arxiv.org/abs/1511.01432\n",
        "[ELMo]: https://arxiv.org/abs/1802.05365\n",
        "[OpenAI GPT]: https://s3-us-west-2.amazonaws.com/openai-assets/research-covers/language-unsupervised/language_understanding_paper.pdf\n",
        "\n",
        "Computer vision (CV) 분야에서는 [VGGNet], [GoogLeNet], [ResNet] 과 같은 pre-train 된 모델을 이용하여 다른 downstream task 에 적용하는 transfer learning 이 활발히 이루어지고 있습니다. Natural Language Processing (NLP) 분야에서도 [word2vec], [GloVe], [fastText] 와 같은 pre-trained word embedding 이 다른 downstream task 에 사용되어왔습니다. 그러나, 기존에 word embedding 연구들은 contextual language representation 의 표현이 어려웠습니다. 이를 해결하기 위해, 최근 연구들은 pre-trained language model 을 사용하였고, Google 의 [Semi-Supervised Sequence Learning] 연구를 시작으로 [ELMo], [OpenAI GPT] 등 다양한 모델들이 제안되었습니다.\n",
        "\n",
        "<center><img src=\"https://github.com/passing2961/KEMC/blob/master/bert.png?raw=true\" width=\"80%\" height=\"80%\" title=\"bert_glue\" alt=\"bert_glue\"></img></center>\n",
        "\n",
        "[BERT]: https://arxiv.org/abs/1810.04805\n",
        "\n",
        "그러나, 기존의 연구들은 left context 혹은 right context 로만 진행하는 unidirectional 합니다. 그렇지만, language 를 더 잘 이해하기 위해서는 bidirectional 해야합니다. 즉, language understanding 을 더 향상시키기 위해 [BERT] (Bidirectional Encoder Representations from Transformers) 라는 모델이 제안되었습니다. \n",
        "\n",
        "여기서 중요한 이슈는 **language model 이 bidirectional 하게되면, 단어가 간접적으로 자기 자신을 보게 되는 문제**가 발생합니다. 아래의 그림을 보시면 알 수 있습니다.\n",
        "\n",
        "<center><img src=\"https://github.com/passing2961/KEMC/blob/master/multi_bert.png?raw=true\" width=\"50%\" height=\"50%\" title=\"\" alt=\"cv\"></img></center>\n",
        "\n",
        "이를 해결하기 위해, BERT 를 학습시킬 때는 **Masked Language Model** 을 이용하여 학습을 진행합니다. 추가로, 문장들 사이에 relationship 을 학습시키기 위해 **Next Sentence Prediction task** 를 사용합니다. 자세한 내용은 논문에 가시면 확인하실 수 있습니다. \n",
        "\n",
        "- pre-training: **Maksed Language Model + Next Sentence Prediction** + *Wikepedia + BookCorpus*\n",
        "- fine-tuning: GLUE tasks (NLU downstream tasks)\n",
        "[GLUE]: https://gluebenchmark.com/leaderboard\n",
        "\n",
        "논문에서도 알 수 있듯이, BERT 는 [GLUE] 라는 자연어 이해 (Language Understanding) benchmark 에서 높은 성능을 기록하였습니다. GLUE 는 자연어 이해 관련 11개의 task 를 포함하고 있습니다.\n",
        "(*GLUE paper: https://arxiv.org/abs/1804.07461*)\n",
        "\n",
        "<center><img src=\"https://github.com/passing2961/KEMC/blob/master/bert_glue_1.png?raw=true\"  title=\"bert_glue\" alt=\"bert_glue\"></img></center>\n",
        "\n",
        "*이미지 출처: https://ai.googleblog.com/2018/11/open-sourcing-bert-state-of-art-pre.html*\n",
        "\n",
        "\n",
        "\n",
        "__본 실습에서는 pre-train 된 BERT 모델을 가져와서 amazon review 데이터를 이용하여 sentiment classification 을 진행할 것입니다.__\n",
        "\n",
        "## Documentation\n",
        "\n",
        "본 실습 자료를 위해 참고한 자료는 아래와 같습니다.\n",
        "\n",
        "- Chris McCormick's tutorial: https://mccormickml.com/2019/07/22/BERT-fine-tuning/\n",
        "- huggingface github: https://github.com/huggingface/transformers\n",
        "- huggingface documentation: https://huggingface.co/transformers/"
      ]
    },
    {
      "cell_type": "markdown",
      "metadata": {
        "id": "5tZo8B6eVJFf",
        "colab_type": "text"
      },
      "source": [
        "## Step 0: Connect to Google drive\n",
        "\n",
        "- 학습 도중 checkpoint 를 저장해서 나중에 불러와서 사용하고 싶은 경우에 필요하다."
      ]
    },
    {
      "cell_type": "code",
      "metadata": {
        "id": "omfN5AZ9ys_g",
        "colab_type": "code",
        "colab": {
          "base_uri": "https://localhost:8080/",
          "height": 122
        },
        "outputId": "24f05742-92c4-4998-c6a9-3fbf85c91ac2"
      },
      "source": [
        "from google.colab import drive\n",
        "\n",
        "drive.mount('/content/gdrive')"
      ],
      "execution_count": null,
      "outputs": [
        {
          "output_type": "stream",
          "text": [
            "Go to this URL in a browser: https://accounts.google.com/o/oauth2/auth?client_id=947318989803-6bn6qk8qdgf4n4g3pfee6491hc0brc4i.apps.googleusercontent.com&redirect_uri=urn%3aietf%3awg%3aoauth%3a2.0%3aoob&response_type=code&scope=email%20https%3a%2f%2fwww.googleapis.com%2fauth%2fdocs.test%20https%3a%2f%2fwww.googleapis.com%2fauth%2fdrive%20https%3a%2f%2fwww.googleapis.com%2fauth%2fdrive.photos.readonly%20https%3a%2f%2fwww.googleapis.com%2fauth%2fpeopleapi.readonly\n",
            "\n",
            "Enter your authorization code:\n",
            "··········\n",
            "Mounted at /content/gdrive\n"
          ],
          "name": "stdout"
        }
      ]
    },
    {
      "cell_type": "markdown",
      "metadata": {
        "id": "6QhEGRaVVaFh",
        "colab_type": "text"
      },
      "source": [
        "## Step 1: Import modules"
      ]
    },
    {
      "cell_type": "code",
      "metadata": {
        "id": "aYhj-RIeybIm",
        "colab_type": "code",
        "colab": {
          "base_uri": "https://localhost:8080/",
          "height": 68
        },
        "outputId": "74abfdbd-ce93-4958-8e92-5bca6a058dd9"
      },
      "source": [
        "import pickle as pc\n",
        "import os\n",
        "import numpy as np\n",
        "import csv\n",
        "import torch\n",
        "\n",
        "# torch 버전 확인\n",
        "print(\"Pytorch Version: \", torch.__version__)\n",
        "\n",
        "# GPU 사용 가능한지 여부 확인\n",
        "if torch.cuda.is_available():\n",
        "    \n",
        "    # PyTorch 에게 GPU 사용할거라고 알려주기\n",
        "    device = torch.device(\"cuda\")\n",
        "    \n",
        "    print(\"There are %d GPU(s) available.\" % torch.cuda.device_count())\n",
        "    print(\"We will use the GPU:\", torch.cuda.get_device_name(0))\n",
        "else:\n",
        "    print(\"No GPU available, using the CPU instead.\")\n",
        "    device = torch.device(\"cpu\")"
      ],
      "execution_count": null,
      "outputs": [
        {
          "output_type": "stream",
          "text": [
            "Pytorch Version:  1.5.0+cu101\n",
            "There are 1 GPU(s) available.\n",
            "We will use the GPU: Tesla K80\n"
          ],
          "name": "stdout"
        }
      ]
    },
    {
      "cell_type": "markdown",
      "metadata": {
        "id": "9DoBvLNQV3wj",
        "colab_type": "text"
      },
      "source": [
        "## Step 2: Installing the Hugging Face Library"
      ]
    },
    {
      "cell_type": "code",
      "metadata": {
        "id": "ZrMn70gSV3Ko",
        "colab_type": "code",
        "colab": {
          "base_uri": "https://localhost:8080/",
          "height": 581
        },
        "outputId": "b778f229-3142-4710-e4b9-c12786fb93de"
      },
      "source": [
        "!pip install transformers"
      ],
      "execution_count": null,
      "outputs": [
        {
          "output_type": "stream",
          "text": [
            "Collecting transformers\n",
            "\u001b[?25l  Downloading https://files.pythonhosted.org/packages/12/b5/ac41e3e95205ebf53439e4dd087c58e9fd371fd8e3724f2b9b4cdb8282e5/transformers-2.10.0-py3-none-any.whl (660kB)\n",
            "\r\u001b[K     |▌                               | 10kB 20.9MB/s eta 0:00:01\r\u001b[K     |█                               | 20kB 2.1MB/s eta 0:00:01\r\u001b[K     |█▌                              | 30kB 3.1MB/s eta 0:00:01\r\u001b[K     |██                              | 40kB 4.0MB/s eta 0:00:01\r\u001b[K     |██▌                             | 51kB 2.6MB/s eta 0:00:01\r\u001b[K     |███                             | 61kB 3.1MB/s eta 0:00:01\r\u001b[K     |███▌                            | 71kB 3.5MB/s eta 0:00:01\r\u001b[K     |████                            | 81kB 3.9MB/s eta 0:00:01\r\u001b[K     |████▌                           | 92kB 3.1MB/s eta 0:00:01\r\u001b[K     |█████                           | 102kB 3.4MB/s eta 0:00:01\r\u001b[K     |█████▌                          | 112kB 3.4MB/s eta 0:00:01\r\u001b[K     |██████                          | 122kB 3.4MB/s eta 0:00:01\r\u001b[K     |██████▌                         | 133kB 3.4MB/s eta 0:00:01\r\u001b[K     |███████                         | 143kB 3.4MB/s eta 0:00:01\r\u001b[K     |███████▌                        | 153kB 3.4MB/s eta 0:00:01\r\u001b[K     |████████                        | 163kB 3.4MB/s eta 0:00:01\r\u001b[K     |████████▍                       | 174kB 3.4MB/s eta 0:00:01\r\u001b[K     |█████████                       | 184kB 3.4MB/s eta 0:00:01\r\u001b[K     |█████████▍                      | 194kB 3.4MB/s eta 0:00:01\r\u001b[K     |██████████                      | 204kB 3.4MB/s eta 0:00:01\r\u001b[K     |██████████▍                     | 215kB 3.4MB/s eta 0:00:01\r\u001b[K     |███████████                     | 225kB 3.4MB/s eta 0:00:01\r\u001b[K     |███████████▍                    | 235kB 3.4MB/s eta 0:00:01\r\u001b[K     |████████████                    | 245kB 3.4MB/s eta 0:00:01\r\u001b[K     |████████████▍                   | 256kB 3.4MB/s eta 0:00:01\r\u001b[K     |█████████████                   | 266kB 3.4MB/s eta 0:00:01\r\u001b[K     |█████████████▍                  | 276kB 3.4MB/s eta 0:00:01\r\u001b[K     |██████████████                  | 286kB 3.4MB/s eta 0:00:01\r\u001b[K     |██████████████▍                 | 296kB 3.4MB/s eta 0:00:01\r\u001b[K     |███████████████                 | 307kB 3.4MB/s eta 0:00:01\r\u001b[K     |███████████████▍                | 317kB 3.4MB/s eta 0:00:01\r\u001b[K     |███████████████▉                | 327kB 3.4MB/s eta 0:00:01\r\u001b[K     |████████████████▍               | 337kB 3.4MB/s eta 0:00:01\r\u001b[K     |████████████████▉               | 348kB 3.4MB/s eta 0:00:01\r\u001b[K     |█████████████████▍              | 358kB 3.4MB/s eta 0:00:01\r\u001b[K     |█████████████████▉              | 368kB 3.4MB/s eta 0:00:01\r\u001b[K     |██████████████████▍             | 378kB 3.4MB/s eta 0:00:01\r\u001b[K     |██████████████████▉             | 389kB 3.4MB/s eta 0:00:01\r\u001b[K     |███████████████████▍            | 399kB 3.4MB/s eta 0:00:01\r\u001b[K     |███████████████████▉            | 409kB 3.4MB/s eta 0:00:01\r\u001b[K     |████████████████████▍           | 419kB 3.4MB/s eta 0:00:01\r\u001b[K     |████████████████████▉           | 430kB 3.4MB/s eta 0:00:01\r\u001b[K     |█████████████████████▍          | 440kB 3.4MB/s eta 0:00:01\r\u001b[K     |█████████████████████▉          | 450kB 3.4MB/s eta 0:00:01\r\u001b[K     |██████████████████████▍         | 460kB 3.4MB/s eta 0:00:01\r\u001b[K     |██████████████████████▉         | 471kB 3.4MB/s eta 0:00:01\r\u001b[K     |███████████████████████▎        | 481kB 3.4MB/s eta 0:00:01\r\u001b[K     |███████████████████████▉        | 491kB 3.4MB/s eta 0:00:01\r\u001b[K     |████████████████████████▎       | 501kB 3.4MB/s eta 0:00:01\r\u001b[K     |████████████████████████▉       | 512kB 3.4MB/s eta 0:00:01\r\u001b[K     |█████████████████████████▎      | 522kB 3.4MB/s eta 0:00:01\r\u001b[K     |█████████████████████████▉      | 532kB 3.4MB/s eta 0:00:01\r\u001b[K     |██████████████████████████▎     | 542kB 3.4MB/s eta 0:00:01\r\u001b[K     |██████████████████████████▉     | 552kB 3.4MB/s eta 0:00:01\r\u001b[K     |███████████████████████████▎    | 563kB 3.4MB/s eta 0:00:01\r\u001b[K     |███████████████████████████▉    | 573kB 3.4MB/s eta 0:00:01\r\u001b[K     |████████████████████████████▎   | 583kB 3.4MB/s eta 0:00:01\r\u001b[K     |████████████████████████████▉   | 593kB 3.4MB/s eta 0:00:01\r\u001b[K     |█████████████████████████████▎  | 604kB 3.4MB/s eta 0:00:01\r\u001b[K     |█████████████████████████████▉  | 614kB 3.4MB/s eta 0:00:01\r\u001b[K     |██████████████████████████████▎ | 624kB 3.4MB/s eta 0:00:01\r\u001b[K     |██████████████████████████████▊ | 634kB 3.4MB/s eta 0:00:01\r\u001b[K     |███████████████████████████████▎| 645kB 3.4MB/s eta 0:00:01\r\u001b[K     |███████████████████████████████▊| 655kB 3.4MB/s eta 0:00:01\r\u001b[K     |████████████████████████████████| 665kB 3.4MB/s \n",
            "\u001b[?25hRequirement already satisfied: regex!=2019.12.17 in /usr/local/lib/python3.6/dist-packages (from transformers) (2019.12.20)\n",
            "Requirement already satisfied: requests in /usr/local/lib/python3.6/dist-packages (from transformers) (2.23.0)\n",
            "Collecting tokenizers==0.7.0\n",
            "\u001b[?25l  Downloading https://files.pythonhosted.org/packages/14/e5/a26eb4716523808bb0a799fcfdceb6ebf77a18169d9591b2f46a9adb87d9/tokenizers-0.7.0-cp36-cp36m-manylinux1_x86_64.whl (3.8MB)\n",
            "\u001b[K     |████████████████████████████████| 3.8MB 39.4MB/s \n",
            "\u001b[?25hRequirement already satisfied: dataclasses; python_version < \"3.7\" in /usr/local/lib/python3.6/dist-packages (from transformers) (0.7)\n",
            "Requirement already satisfied: filelock in /usr/local/lib/python3.6/dist-packages (from transformers) (3.0.12)\n",
            "Requirement already satisfied: tqdm>=4.27 in /usr/local/lib/python3.6/dist-packages (from transformers) (4.41.1)\n",
            "Requirement already satisfied: numpy in /usr/local/lib/python3.6/dist-packages (from transformers) (1.18.4)\n",
            "Collecting sacremoses\n",
            "\u001b[?25l  Downloading https://files.pythonhosted.org/packages/7d/34/09d19aff26edcc8eb2a01bed8e98f13a1537005d31e95233fd48216eed10/sacremoses-0.0.43.tar.gz (883kB)\n",
            "\u001b[K     |████████████████████████████████| 890kB 39.0MB/s \n",
            "\u001b[?25hCollecting sentencepiece\n",
            "\u001b[?25l  Downloading https://files.pythonhosted.org/packages/d4/a4/d0a884c4300004a78cca907a6ff9a5e9fe4f090f5d95ab341c53d28cbc58/sentencepiece-0.1.91-cp36-cp36m-manylinux1_x86_64.whl (1.1MB)\n",
            "\u001b[K     |████████████████████████████████| 1.1MB 34.8MB/s \n",
            "\u001b[?25hRequirement already satisfied: urllib3!=1.25.0,!=1.25.1,<1.26,>=1.21.1 in /usr/local/lib/python3.6/dist-packages (from requests->transformers) (1.24.3)\n",
            "Requirement already satisfied: certifi>=2017.4.17 in /usr/local/lib/python3.6/dist-packages (from requests->transformers) (2020.4.5.1)\n",
            "Requirement already satisfied: chardet<4,>=3.0.2 in /usr/local/lib/python3.6/dist-packages (from requests->transformers) (3.0.4)\n",
            "Requirement already satisfied: idna<3,>=2.5 in /usr/local/lib/python3.6/dist-packages (from requests->transformers) (2.9)\n",
            "Requirement already satisfied: six in /usr/local/lib/python3.6/dist-packages (from sacremoses->transformers) (1.12.0)\n",
            "Requirement already satisfied: click in /usr/local/lib/python3.6/dist-packages (from sacremoses->transformers) (7.1.2)\n",
            "Requirement already satisfied: joblib in /usr/local/lib/python3.6/dist-packages (from sacremoses->transformers) (0.15.1)\n",
            "Building wheels for collected packages: sacremoses\n",
            "  Building wheel for sacremoses (setup.py) ... \u001b[?25l\u001b[?25hdone\n",
            "  Created wheel for sacremoses: filename=sacremoses-0.0.43-cp36-none-any.whl size=893260 sha256=28c2d0da3c3cde11f77ec922292e9b672e18105aac5f300ad41fe175acb59c7f\n",
            "  Stored in directory: /root/.cache/pip/wheels/29/3c/fd/7ce5c3f0666dab31a50123635e6fb5e19ceb42ce38d4e58f45\n",
            "Successfully built sacremoses\n",
            "Installing collected packages: tokenizers, sacremoses, sentencepiece, transformers\n",
            "Successfully installed sacremoses-0.0.43 sentencepiece-0.1.91 tokenizers-0.7.0 transformers-2.10.0\n"
          ],
          "name": "stdout"
        }
      ]
    },
    {
      "cell_type": "markdown",
      "metadata": {
        "id": "g1wW8UouVh8M",
        "colab_type": "text"
      },
      "source": [
        "## Step 3: Configure the experiments\n",
        "\n",
        "- 모델의 실험(학습 및 평가)을 필요한 파라미터 및 인자 설정\n",
        "    - Hyperparameter: hidden unit size, vocabulary size, max length, dropout rate 등\n",
        "    - Argument: file directory 등\n",
        "\n",
        "*Note: 해당 실습 자료에서는 데이터 경로만 지정*"
      ]
    },
    {
      "cell_type": "code",
      "metadata": {
        "id": "s_4QT4BDybIq",
        "colab_type": "code",
        "colab": {}
      },
      "source": [
        "train_filename = '/content/gdrive/My Drive/Colab Notebooks/data/train_data_all.csv'\n",
        "test_data = '/content/gdrive/My Drive/Colab Notebooks/data/balanced_data'\n",
        "test_label = '/content/gdrive/My Drive/Colab Notebooks/data/balanced_label'"
      ],
      "execution_count": null,
      "outputs": []
    },
    {
      "cell_type": "markdown",
      "metadata": {
        "id": "kRSvzQwfWFzo",
        "colab_type": "text"
      },
      "source": [
        "## Step 4: Load Amazon Review Dataset\n",
        "\n",
        "- `load_data`: amazon review data 에서 **[reviewText, label]** 형태로 데이터를 불러오는 함수"
      ]
    },
    {
      "cell_type": "code",
      "metadata": {
        "id": "1In5hQtPybIs",
        "colab_type": "code",
        "colab": {}
      },
      "source": [
        "def load_data(filename):\n",
        "    data = list()\n",
        "    label = list()\n",
        "    \n",
        "    f = open(filename, 'r', encoding='utf-8')\n",
        "    reader = csv.reader(f)\n",
        "    for idx, line in enumerate(reader):\n",
        "        if idx == 0:\n",
        "            continue\n",
        "\n",
        "        data.append(line[5])\n",
        "        label.append(int(line[2]))\n",
        "\n",
        "    f.close()\n",
        "    \n",
        "    # data 랑 label 사이즈 일치 여부 확인\n",
        "    assert len(data) == len(label)\n",
        "    return data, label"
      ],
      "execution_count": null,
      "outputs": []
    },
    {
      "cell_type": "code",
      "metadata": {
        "id": "USBIeV1TybIv",
        "colab_type": "code",
        "colab": {}
      },
      "source": [
        "train_data, train_label = load_data(train_filename)"
      ],
      "execution_count": null,
      "outputs": []
    },
    {
      "cell_type": "code",
      "metadata": {
        "id": "43O3FuU7ybI0",
        "colab_type": "code",
        "colab": {
          "base_uri": "https://localhost:8080/",
          "height": 51
        },
        "outputId": "d3c9a83a-1b0b-4bb0-bb8a-1c89a7c05686"
      },
      "source": [
        "print(\"Size of train data: {}\".format(len(train_data)))\n",
        "print(\"Size of train label: {}\".format(len(train_label)))"
      ],
      "execution_count": null,
      "outputs": [
        {
          "output_type": "stream",
          "text": [
            "Size of train data: 10727\n",
            "Size of train label: 10727\n"
          ],
          "name": "stdout"
        }
      ]
    },
    {
      "cell_type": "markdown",
      "metadata": {
        "id": "23USqxBAybJA",
        "colab_type": "text"
      },
      "source": [
        "## Step 5: Tokenization & Input Formatting\n",
        "\n",
        "본 단계에서는 BERT 가 학습한 format 에 맞게 amazon review dataset 을 변환해줍니다. "
      ]
    },
    {
      "cell_type": "markdown",
      "metadata": {
        "id": "l00cRz_EybJC",
        "colab_type": "text"
      },
      "source": [
        "### Step 5-1: BERT Tokenizer\n",
        "\n",
        "BERT 모델에 text 를 입력으로 주기 위해서는 BERT 에서 사용한 tokenizer 를 이용하여 text 를 token 단위로 나누고, 각 token 들을 특정 index 로 mapping 시켜줍니다. \n",
        "\n",
        "- `BertTokenizer`: punctuation splitting + wordpiece\n",
        "  - `bert-base-uncased`: 2-layer, 768-hidden, 12-heads, 110M parameters. Trained on **lower-cased** English text."
      ]
    },
    {
      "cell_type": "code",
      "metadata": {
        "id": "Kks51eZ9ybJD",
        "colab_type": "code",
        "colab": {
          "base_uri": "https://localhost:8080/",
          "height": 83,
          "referenced_widgets": [
            "e975997045e34db398d95f9adce032df",
            "e1043a043d264e39bdf5882085ca7f1e",
            "ce363b31476a4acaa6f5953dfebf4023",
            "ea011ca4c5724c0ca48e98fda634c9e6",
            "928d2abc37e14c03a16c1c8b69fdec9a",
            "fb30ca8da65a48869f38839d75c9bedc",
            "2f29ff48addb4f9597e0460068933942",
            "d0d93561cce44d4f8e0a1b2fb8e48a16"
          ]
        },
        "outputId": "f4a7720d-c65f-4dfc-9f67-13276586036d"
      },
      "source": [
        "from transformers import BertTokenizer\n",
        "\n",
        "# BERT tokenizer 불러오기\n",
        "print(\"Loading BERT tokenizer...\")\n",
        "tokenizer = BertTokenizer.from_pretrained('bert-base-uncased', do_lower_case=True)"
      ],
      "execution_count": null,
      "outputs": [
        {
          "output_type": "stream",
          "text": [
            "Loading BERT tokenizer...\n"
          ],
          "name": "stdout"
        },
        {
          "output_type": "display_data",
          "data": {
            "application/vnd.jupyter.widget-view+json": {
              "model_id": "e975997045e34db398d95f9adce032df",
              "version_minor": 0,
              "version_major": 2
            },
            "text/plain": [
              "HBox(children=(FloatProgress(value=0.0, description='Downloading', max=231508.0, style=ProgressStyle(descripti…"
            ]
          },
          "metadata": {
            "tags": []
          }
        },
        {
          "output_type": "stream",
          "text": [
            "\n"
          ],
          "name": "stdout"
        }
      ]
    },
    {
      "cell_type": "code",
      "metadata": {
        "id": "VTwSHYz1ybJG",
        "colab_type": "code",
        "colab": {
          "base_uri": "https://localhost:8080/",
          "height": 139
        },
        "outputId": "1ab2473f-23c6-4137-bf68-217b41bcbe4c"
      },
      "source": [
        "# 하나의 sentence 에 대해 BertTokenizer 적용\n",
        "\n",
        "# Print the original sentence.\n",
        "print(\"Original: \", train_data[0])\n",
        "print()\n",
        "\n",
        "# Print the sentence split into tokens.\n",
        "print(\"Tokenized: \", tokenizer.tokenize(train_data[0]))\n",
        "print()\n",
        "\n",
        "# Print the sentence mapped to token ids.\n",
        "print(\"Token IDs: \", tokenizer.convert_tokens_to_ids(tokenizer.tokenize(train_data[0])))\n",
        "print()"
      ],
      "execution_count": null,
      "outputs": [
        {
          "output_type": "stream",
          "text": [
            "Original:  I never thought that I would find the right moisturizer for my skin. I have combination skin with large pores that get gunked up if I neglect them and I ve struggled for some time to find a product that would provide sufficient moisture without breaking me out or turning my face into an oil-slick. This is truly a holy grail moisturizer for me and has a nice face feel and natural herbal scent. Will definitely repurchase!  I m a 30 something multi-ethnic muxer and a recent convert to korean beauty. This is my new routine and my skin has never felt or looked bettter!  1) Banila Co Clean It Zero Reservatrol 2) Neogen Green Tea Real Fresh Foam Cleanser 3) MISSHA Time Revolution First Treatment Essence (Morning) or MISSHA Time Revolution Night Repair New Science Ampoule (Night) 4) Cosrx Oil-Free Ultra-Moisturizing Lotion (Morning and ever OTHER night) or Cosrx Ultimate Nourishing Rice Overnight Mask\n",
            "\n",
            "Tokenized:  ['i', 'never', 'thought', 'that', 'i', 'would', 'find', 'the', 'right', 'moist', '##uri', '##zer', 'for', 'my', 'skin', '.', 'i', 'have', 'combination', 'skin', 'with', 'large', 'por', '##es', 'that', 'get', 'gun', '##ked', 'up', 'if', 'i', 'neglect', 'them', 'and', 'i', 've', 'struggled', 'for', 'some', 'time', 'to', 'find', 'a', 'product', 'that', 'would', 'provide', 'sufficient', 'moisture', 'without', 'breaking', 'me', 'out', 'or', 'turning', 'my', 'face', 'into', 'an', 'oil', '-', 'slick', '.', 'this', 'is', 'truly', 'a', 'holy', 'gr', '##ail', 'moist', '##uri', '##zer', 'for', 'me', 'and', 'has', 'a', 'nice', 'face', 'feel', 'and', 'natural', 'herbal', 'scent', '.', 'will', 'definitely', 'rep', '##ur', '##chase', '!', 'i', 'm', 'a', '30', 'something', 'multi', '-', 'ethnic', 'mu', '##x', '##er', 'and', 'a', 'recent', 'convert', 'to', 'korean', 'beauty', '.', 'this', 'is', 'my', 'new', 'routine', 'and', 'my', 'skin', 'has', 'never', 'felt', 'or', 'looked', 'bet', '##tter', '!', '1', ')', 'ban', '##ila', 'co', 'clean', 'it', 'zero', 'res', '##er', '##vat', '##rol', '2', ')', 'neo', '##gen', 'green', 'tea', 'real', 'fresh', 'foam', 'clean', '##ser', '3', ')', 'miss', '##ha', 'time', 'revolution', 'first', 'treatment', 'essence', '(', 'morning', ')', 'or', 'miss', '##ha', 'time', 'revolution', 'night', 'repair', 'new', 'science', 'amp', '##ou', '##le', '(', 'night', ')', '4', ')', 'co', '##sr', '##x', 'oil', '-', 'free', 'ultra', '-', 'moist', '##uri', '##zing', 'lot', '##ion', '(', 'morning', 'and', 'ever', 'other', 'night', ')', 'or', 'co', '##sr', '##x', 'ultimate', 'no', '##uri', '##shing', 'rice', 'overnight', 'mask']\n",
            "\n",
            "Token IDs:  [1045, 2196, 2245, 2008, 1045, 2052, 2424, 1996, 2157, 11052, 9496, 6290, 2005, 2026, 3096, 1012, 1045, 2031, 5257, 3096, 2007, 2312, 18499, 2229, 2008, 2131, 3282, 8126, 2039, 2065, 1045, 19046, 2068, 1998, 1045, 2310, 6915, 2005, 2070, 2051, 2000, 2424, 1037, 4031, 2008, 2052, 3073, 7182, 14098, 2302, 4911, 2033, 2041, 2030, 3810, 2026, 2227, 2046, 2019, 3514, 1011, 13554, 1012, 2023, 2003, 5621, 1037, 4151, 24665, 12502, 11052, 9496, 6290, 2005, 2033, 1998, 2038, 1037, 3835, 2227, 2514, 1998, 3019, 27849, 6518, 1012, 2097, 5791, 16360, 3126, 26300, 999, 1045, 1049, 1037, 2382, 2242, 4800, 1011, 5636, 14163, 2595, 2121, 1998, 1037, 3522, 10463, 2000, 4759, 5053, 1012, 2023, 2003, 2026, 2047, 9410, 1998, 2026, 3096, 2038, 2196, 2371, 2030, 2246, 6655, 12079, 999, 1015, 1007, 7221, 11733, 2522, 4550, 2009, 5717, 24501, 2121, 22879, 13153, 1016, 1007, 9253, 6914, 2665, 5572, 2613, 4840, 17952, 4550, 8043, 1017, 1007, 3335, 3270, 2051, 4329, 2034, 3949, 11305, 1006, 2851, 1007, 2030, 3335, 3270, 2051, 4329, 2305, 7192, 2047, 2671, 23713, 7140, 2571, 1006, 2305, 1007, 1018, 1007, 2522, 21338, 2595, 3514, 1011, 2489, 11087, 1011, 11052, 9496, 6774, 2843, 3258, 1006, 2851, 1998, 2412, 2060, 2305, 1007, 2030, 2522, 21338, 2595, 7209, 2053, 9496, 12227, 5785, 11585, 7308]\n",
            "\n"
          ],
          "name": "stdout"
        }
      ]
    },
    {
      "cell_type": "markdown",
      "metadata": {
        "id": "rm4-Ma72ybJK",
        "colab_type": "text"
      },
      "source": [
        "### Step 5-2: Required Formatting\n",
        "\n",
        "- 각 문장의 처음과 끝에 special token 더하기\n",
        "- 각 문장을 maximum length 만큼 자르고 padding token 채워주기\n",
        "- 각 문장에서 padding token 과 실제 token 들 구분하기 위한 attention masking 적용\n",
        "\n",
        "#### Special Tokens\n",
        "\n",
        "- `[SEP]`: 모든 문장 뒤에 `[SEP]` 더하기\n",
        "- `[CLS]`: 문장의 앞에 `[CLS]` 더하기\n",
        "\n",
        "<center><img src=\"https://github.com/passing2961/KEMC/blob/master/bert_clf.png?raw=true\" width=\"50%\" height=\"40%\" title=\"Bert4Clf\" alt=\"Bert4Clf\"></img></center>\n",
        "\n",
        "> The first token of every sequence is always a special classification token([CLS]). The final hidden state corresponding to this token is used as **the aggregate sequence representation for classification tasks**.\n",
        "> _(from the BERT paper)_\n",
        "\n",
        "\n",
        "#### Sentence Length & Attention Mask\n",
        "\n",
        "실제 데이터에 있는 문장들의 길이는 천차만별입니다. 이를 위해서 BERT 는 아래의 과정을 통해 해결합니다. \n",
        "\n",
        "- 모든 문장들은 하나의 고정된 길이인 max_len 를 지녀야하고, 이를 위해서 max_len 보다 긴 문장의 경우에는 잘라줍니다. 실제 문장의 길이가 max_len 보다 작은 경우에는 남은 부분을 padding token `[PAD]` 으로 채워줍니다.\n",
        "  - `[PAD]`: BERT 사전에서 index 0 에 해당\n",
        "- max_len 는 512 tokens 입니다.\n",
        "\n",
        "\n",
        "<center><img src=\"https://github.com/passing2961/KEMC/blob/master/bert_pad.png?raw=true\" width=\"60%\" height=\"50%\" title=\"Bert4Pad\" alt=\"Bert4Pad\"></img></center>\n",
        "\n",
        "- **Attention mask**: 0과 1을 이용해 토큰이 `[PAD]` 인지 실제 값인지를 구분해주기 위한 binary tensor 값입니다.\n",
        "\n",
        "\n",
        "\n"
      ]
    },
    {
      "cell_type": "markdown",
      "metadata": {
        "id": "UDJ4ZBtizGK5",
        "colab_type": "text"
      },
      "source": [
        "#### Sentences to IDs\n",
        "\n",
        "`tokenizer.encode` 함수를 이용하여 모든 문장들에 대해 위의 과정들을 한꺼번에 처리합니다."
      ]
    },
    {
      "cell_type": "code",
      "metadata": {
        "id": "qArPy88KybJM",
        "colab_type": "code",
        "colab": {
          "base_uri": "https://localhost:8080/",
          "height": 224
        },
        "outputId": "27d141ef-dec2-4fb0-e280-3f4780fe34dc"
      },
      "source": [
        "# Tokenize all of the sentences and map the tokens to their word IDs.\n",
        "input_ids = []\n",
        "\n",
        "# For every sentence\n",
        "for sent in train_data:\n",
        "    # 'encode' will:\n",
        "    #   (1) Tokenize the sentence.\n",
        "    #   (2) Prepend the '[CLS]' token to the start.\n",
        "    #   (3) Append the '[SEP]' token to the end.\n",
        "    #   (4) Map tokens to their IDs.\n",
        "    \n",
        "    encoded_sent = tokenizer.encode(sent, \n",
        "                                    add_special_tokens=True,\n",
        "                                    max_length = 64)\n",
        "    \n",
        "    # Add the encoded sentence to the list\n",
        "    input_ids.append(encoded_sent)\n",
        "\n",
        "# Print train data[0]\n",
        "print(\"Original: \", train_data[0])\n",
        "print()\n",
        "print(\"Token IDs: \", input_ids[0])\n",
        "\n",
        "# Print special tokens and tokenized sentence\n",
        "print(\"\\n[CLS] token: {:}, ID: {:}\".format(tokenizer.cls_token, tokenizer.cls_token_id))\n",
        "print(\"\\n[PAD] token: {:}, ID: {:}\".format(tokenizer.pad_token, tokenizer.pad_token_id))\n",
        "print(\"\\n[SEP] token: {:}, ID: {:}\".format(tokenizer.sep_token, tokenizer.sep_token_id))\n",
        "print(\"\\nTokenized: \", tokenizer.convert_ids_to_tokens(input_ids[0]))"
      ],
      "execution_count": null,
      "outputs": [
        {
          "output_type": "stream",
          "text": [
            "Original:  I never thought that I would find the right moisturizer for my skin. I have combination skin with large pores that get gunked up if I neglect them and I ve struggled for some time to find a product that would provide sufficient moisture without breaking me out or turning my face into an oil-slick. This is truly a holy grail moisturizer for me and has a nice face feel and natural herbal scent. Will definitely repurchase!  I m a 30 something multi-ethnic muxer and a recent convert to korean beauty. This is my new routine and my skin has never felt or looked bettter!  1) Banila Co Clean It Zero Reservatrol 2) Neogen Green Tea Real Fresh Foam Cleanser 3) MISSHA Time Revolution First Treatment Essence (Morning) or MISSHA Time Revolution Night Repair New Science Ampoule (Night) 4) Cosrx Oil-Free Ultra-Moisturizing Lotion (Morning and ever OTHER night) or Cosrx Ultimate Nourishing Rice Overnight Mask\n",
            "\n",
            "Token IDs:  [101, 1045, 2196, 2245, 2008, 1045, 2052, 2424, 1996, 2157, 11052, 9496, 6290, 2005, 2026, 3096, 1012, 1045, 2031, 5257, 3096, 2007, 2312, 18499, 2229, 2008, 2131, 3282, 8126, 2039, 2065, 1045, 19046, 2068, 1998, 1045, 2310, 6915, 2005, 2070, 2051, 2000, 2424, 1037, 4031, 2008, 2052, 3073, 7182, 14098, 2302, 4911, 2033, 2041, 2030, 3810, 2026, 2227, 2046, 2019, 3514, 1011, 13554, 102]\n",
            "\n",
            "[CLS] token: [CLS], ID: 101\n",
            "\n",
            "[PAD] token: [PAD], ID: 0\n",
            "\n",
            "[SEP] token: [SEP], ID: 102\n",
            "\n",
            "Tokenized:  ['[CLS]', 'i', 'never', 'thought', 'that', 'i', 'would', 'find', 'the', 'right', 'moist', '##uri', '##zer', 'for', 'my', 'skin', '.', 'i', 'have', 'combination', 'skin', 'with', 'large', 'por', '##es', 'that', 'get', 'gun', '##ked', 'up', 'if', 'i', 'neglect', 'them', 'and', 'i', 've', 'struggled', 'for', 'some', 'time', 'to', 'find', 'a', 'product', 'that', 'would', 'provide', 'sufficient', 'moisture', 'without', 'breaking', 'me', 'out', 'or', 'turning', 'my', 'face', 'into', 'an', 'oil', '-', 'slick', '[SEP]']\n"
          ],
          "name": "stdout"
        }
      ]
    },
    {
      "cell_type": "markdown",
      "metadata": {
        "id": "oKm4AQMFybJP",
        "colab_type": "text"
      },
      "source": [
        "#### Padding & Truncating\n",
        "\n",
        "`tf.keras.preprocessing.sequence.pad_sequences` 를 이용하여 **MAXLEN** 만큼 padding 과정을 진행합니다."
      ]
    },
    {
      "cell_type": "code",
      "metadata": {
        "id": "qvi1_q33ybJQ",
        "colab_type": "code",
        "colab": {
          "base_uri": "https://localhost:8080/",
          "height": 34
        },
        "outputId": "f9e0a11c-11f5-4976-9f34-845af834d32f"
      },
      "source": [
        "print(\"Max length: \", max([len(each) for each in input_ids]))"
      ],
      "execution_count": null,
      "outputs": [
        {
          "output_type": "stream",
          "text": [
            "Max length:  64\n"
          ],
          "name": "stdout"
        }
      ]
    },
    {
      "cell_type": "code",
      "metadata": {
        "id": "cTelEtVNybJV",
        "colab_type": "code",
        "colab": {
          "base_uri": "https://localhost:8080/",
          "height": 68
        },
        "outputId": "7ff09882-4045-41d2-93e4-723a47717d60"
      },
      "source": [
        "import tensorflow as tf\n",
        "print(\"Tensorflow version: {}\".format(tf.__version__))\n",
        "\n",
        "MAXLEN = 64\n",
        "\n",
        "input_ids = tf.keras.preprocessing.sequence.pad_sequences(input_ids, \n",
        "                                                          maxlen=MAXLEN, dtype=\"long\", value=0, truncating=\"post\", padding=\"post\")\n",
        "\n",
        "print(\"\\nDone.\")"
      ],
      "execution_count": null,
      "outputs": [
        {
          "output_type": "stream",
          "text": [
            "Tensorflow version: 2.2.0\n",
            "\n",
            "Done.\n"
          ],
          "name": "stdout"
        }
      ]
    },
    {
      "cell_type": "markdown",
      "metadata": {
        "id": "ZJnT5boqybJY",
        "colab_type": "text"
      },
      "source": [
        "#### Attention Masks"
      ]
    },
    {
      "cell_type": "code",
      "metadata": {
        "id": "maKvU-KKybJZ",
        "colab_type": "code",
        "colab": {}
      },
      "source": [
        "# Create attention masks\n",
        "attention_masks = []\n",
        "\n",
        "# For every sentence\n",
        "for sent in input_ids:\n",
        "    # Create the attention mask.\n",
        "    #  - If a token ID is 0, then it's padding, set the mask to 0.\n",
        "    #  - If a token ID is not 0 ( > 0), then it's a real token, set the mask to 1.\n",
        "    att_mask = [int(token_id > 0) for token_id in sent]\n",
        "    \n",
        "    # Store the attention mask for this sentence.\n",
        "    attention_masks.append(att_mask)"
      ],
      "execution_count": null,
      "outputs": []
    },
    {
      "cell_type": "markdown",
      "metadata": {
        "id": "ISSN2XpEybJc",
        "colab_type": "text"
      },
      "source": [
        "#### Training & Validation Split\n",
        "\n",
        "`sklearn` 라이브러리에 `train_test_split` 함수를 이용하여 amazon review dataset 의 90% 는 training 으로 10% 는 validation 으로 나눠줍니다.\n",
        "\n",
        "- `random_state`: reproducibility 를 위함\n",
        "\n",
        "*Note: 아래 코드 블럭을 두 번 이상 실행시키면서 나오는 출력값을 확인해보세요.*\n",
        "\n"
      ]
    },
    {
      "cell_type": "code",
      "metadata": {
        "id": "oTLBXYLTybJg",
        "colab_type": "code",
        "colab": {
          "base_uri": "https://localhost:8080/",
          "height": 156
        },
        "outputId": "2bca8811-f68b-448b-86fa-02a3f2b6439c"
      },
      "source": [
        "# Use train_test_split to split our data into train and validation sets for training\n",
        "from sklearn.model_selection import train_test_split\n",
        "\n",
        "# Use 90% for training and 10% for validation.\n",
        "train_inputs, valid_inputs, train_labels, valid_labels = train_test_split(input_ids, train_label, random_state=2018, test_size=0.1)\n",
        "\n",
        "# Do the same for the masks.\n",
        "train_masks, valid_masks, _, _ = train_test_split(attention_masks, train_label, random_state=2018, test_size=0.1)\n",
        "\n",
        "# print train_inputs, valid_inputs\n",
        "print(train_inputs[:1])\n",
        "print(train_masks[:1])"
      ],
      "execution_count": null,
      "outputs": [
        {
          "output_type": "stream",
          "text": [
            "[[  101  4149  2023  2043  2559  2005  2227  3688  3647  1999 10032  1012\n",
            "   1045  2293  2009  1998  2097  3613  2000  2224  2035  1996  2051  2085\n",
            "   1012   102     0     0     0     0     0     0     0     0     0     0\n",
            "      0     0     0     0     0     0     0     0     0     0     0     0\n",
            "      0     0     0     0     0     0     0     0     0     0     0     0\n",
            "      0     0     0     0]]\n",
            "[[1, 1, 1, 1, 1, 1, 1, 1, 1, 1, 1, 1, 1, 1, 1, 1, 1, 1, 1, 1, 1, 1, 1, 1, 1, 1, 0, 0, 0, 0, 0, 0, 0, 0, 0, 0, 0, 0, 0, 0, 0, 0, 0, 0, 0, 0, 0, 0, 0, 0, 0, 0, 0, 0, 0, 0, 0, 0, 0, 0, 0, 0, 0, 0]]\n"
          ],
          "name": "stdout"
        }
      ]
    },
    {
      "cell_type": "markdown",
      "metadata": {
        "id": "p_jmnF2IybJj",
        "colab_type": "text"
      },
      "source": [
        "#### Converting to PyTorch Data Types"
      ]
    },
    {
      "cell_type": "code",
      "metadata": {
        "id": "5hFzBxvyybJk",
        "colab_type": "code",
        "colab": {}
      },
      "source": [
        "# Convert all inputs and labels into torch tensors, the required data type for our model.\n",
        "train_inputs = torch.tensor(train_inputs)\n",
        "valid_inputs = torch.tensor(valid_inputs)\n",
        "\n",
        "train_labels = torch.tensor(train_labels)\n",
        "valid_labels = torch.tensor(valid_labels)\n",
        "\n",
        "train_masks = torch.tensor(train_masks)\n",
        "valid_masks = torch.tensor(valid_masks)"
      ],
      "execution_count": null,
      "outputs": []
    },
    {
      "cell_type": "markdown",
      "metadata": {
        "id": "4J9aJtLU96be",
        "colab_type": "text"
      },
      "source": [
        "PyTorch 의 `DataLoader` class 를 이용하여 amazon review dataset 에 대한 `iterator` 를 생성합니다.\n",
        "\n",
        "- `loop` 랑은 다르게 학습하는 동안에 메모리를 효율적으로 사용 가능\n",
        "- `TensorDataset`: tensor 를 입력받아 dataset 형태로 변환해주는 함수\n",
        "- `RandomSampler`: 입력 dataset 에 element 들의 index 를 무작위로 샘플링하는 함수\n",
        "- `SequentialSampler`: 입력 dataset 에 element 들의 index 를 순차적으로 샘플링하는 함수\n",
        "- `DataLoader`: dataset 과 sampler 를 이용하여 주어진 dataset 에 대하여 배치사이즈만큼 데이터를 반환해주는 함수\n"
      ]
    },
    {
      "cell_type": "code",
      "metadata": {
        "id": "xhbYgxdvybJq",
        "colab_type": "code",
        "colab": {}
      },
      "source": [
        "from torch.utils.data import TensorDataset, DataLoader, RandomSampler, SequentialSampler\n",
        "\n",
        "# The DataLoader needs to know our batch size for training, so we specify it here.\n",
        "# For fine-tuning BERT on a specific task, we recommend a batch size of 16 or 32.\n",
        "\n",
        "batch_size = 32\n",
        "\n",
        "# Create the DataLoader for our training set.\n",
        "train_data = TensorDataset(train_inputs, train_masks, train_labels)\n",
        "train_sampler = RandomSampler(train_data)\n",
        "train_dataloader = DataLoader(train_data, sampler=train_sampler, batch_size=batch_size)\n",
        "\n",
        "# Create the DataLoader for our validation set.\n",
        "valid_data = TensorDataset(valid_inputs, valid_masks, valid_labels)\n",
        "valid_sampler = SequentialSampler(valid_data)\n",
        "valid_dataloader = DataLoader(valid_data, sampler=valid_sampler, batch_size=batch_size)"
      ],
      "execution_count": null,
      "outputs": []
    },
    {
      "cell_type": "markdown",
      "metadata": {
        "id": "JR7FaNXOybJu",
        "colab_type": "text"
      },
      "source": [
        "## Step 6: Train our classification model\n",
        "\n",
        "Pre-train 된 BERT 모델을 불러와서 그 위에 single linear layer 하나를 올립니다. 그리고 전체 모델을 fine-tuning 을 진행합니다."
      ]
    },
    {
      "cell_type": "markdown",
      "metadata": {
        "id": "dxNAGHYwybJv",
        "colab_type": "text"
      },
      "source": [
        "### Step 6-1: BertForSequenceClassification\n",
        "\n",
        "`huggingface` 라이브러리에서 제공하는 `BertForSequenceClassification` 모델을 사용하면 우리가 원하는 모델을 얻을 수 있습니다. 즉, pre-train BERT 모델 위에 single linear layer 하나가 더해져있는 모델을 불러옵니다. 따라서, 해당 모델을 우리가 원하는 task 에 맞게 end-to-end 방식으로 fine-tuning 을 진행할 수 있습니다."
      ]
    },
    {
      "cell_type": "code",
      "metadata": {
        "id": "V7JYZMxEybJx",
        "colab_type": "code",
        "colab": {
          "base_uri": "https://localhost:8080/",
          "height": 1000,
          "referenced_widgets": [
            "37876a2ec60a44af94dd8ab3e4079be3",
            "7f88f56a43eb4ada9a20b69430f25c84",
            "7d1154c8f1334c9ab48b42902f284829",
            "1a3d3d5da9e04390bd5e0ab64c6fd9df",
            "debe4481017b4088ae3fa548980f5959",
            "b2c0af1d01cd4e6eb5bb6d252a213794",
            "e4b5c56e4f1040e5a2eda87973aa6da4",
            "c9a4f4d18c174a1c9765b71ce03cf9a4",
            "a80a87fb9917495c8ceee704cacdaec3",
            "a752a634ff6247d1bf933284d3c705b9",
            "8e9d47f660674404be31de12e74baff6",
            "4e8768d158e346cc8ed560dbd17f372f",
            "24bcb506a97d4ce8878d4078a6be2f00",
            "956ae416a1b045139e96aca8141a4561",
            "e9892c53bf3143719dc4514e5f5c2737",
            "e56a5f45dacf46f9a1e357a1fa7452a1"
          ]
        },
        "outputId": "44384ee2-8682-41c1-e083-3f35dfb037b4"
      },
      "source": [
        "from transformers import BertForSequenceClassification, AdamW, BertConfig\n",
        "\n",
        "# Load BertForSequenceClassfication, the pretrained BERT model \n",
        "# with a single linear classification layer on top.\n",
        "model = BertForSequenceClassification.from_pretrained(\"bert-base-uncased\", # Use the 12-layer BERT model, with an uncased vocab\n",
        "                                                      num_labels = 2, # The number of output labels 2 for binary classification\n",
        "                                                                      # You can increase this for multi-class tasks\n",
        "                                                      output_attentions = False, # whether the model returns attentions weight (correponding to multi-head self attentions)\n",
        "                                                      output_hidden_states = False) # whether the model returns all hidden states\n",
        "\n",
        "# Tell PyTorch to run this model on the GPU\n",
        "model.cuda()"
      ],
      "execution_count": null,
      "outputs": [
        {
          "output_type": "display_data",
          "data": {
            "application/vnd.jupyter.widget-view+json": {
              "model_id": "37876a2ec60a44af94dd8ab3e4079be3",
              "version_minor": 0,
              "version_major": 2
            },
            "text/plain": [
              "HBox(children=(FloatProgress(value=0.0, description='Downloading', max=433.0, style=ProgressStyle(description_…"
            ]
          },
          "metadata": {
            "tags": []
          }
        },
        {
          "output_type": "stream",
          "text": [
            "\n"
          ],
          "name": "stdout"
        },
        {
          "output_type": "display_data",
          "data": {
            "application/vnd.jupyter.widget-view+json": {
              "model_id": "a80a87fb9917495c8ceee704cacdaec3",
              "version_minor": 0,
              "version_major": 2
            },
            "text/plain": [
              "HBox(children=(FloatProgress(value=0.0, description='Downloading', max=440473133.0, style=ProgressStyle(descri…"
            ]
          },
          "metadata": {
            "tags": []
          }
        },
        {
          "output_type": "stream",
          "text": [
            "\n"
          ],
          "name": "stdout"
        },
        {
          "output_type": "execute_result",
          "data": {
            "text/plain": [
              "BertForSequenceClassification(\n",
              "  (bert): BertModel(\n",
              "    (embeddings): BertEmbeddings(\n",
              "      (word_embeddings): Embedding(30522, 768, padding_idx=0)\n",
              "      (position_embeddings): Embedding(512, 768)\n",
              "      (token_type_embeddings): Embedding(2, 768)\n",
              "      (LayerNorm): LayerNorm((768,), eps=1e-12, elementwise_affine=True)\n",
              "      (dropout): Dropout(p=0.1, inplace=False)\n",
              "    )\n",
              "    (encoder): BertEncoder(\n",
              "      (layer): ModuleList(\n",
              "        (0): BertLayer(\n",
              "          (attention): BertAttention(\n",
              "            (self): BertSelfAttention(\n",
              "              (query): Linear(in_features=768, out_features=768, bias=True)\n",
              "              (key): Linear(in_features=768, out_features=768, bias=True)\n",
              "              (value): Linear(in_features=768, out_features=768, bias=True)\n",
              "              (dropout): Dropout(p=0.1, inplace=False)\n",
              "            )\n",
              "            (output): BertSelfOutput(\n",
              "              (dense): Linear(in_features=768, out_features=768, bias=True)\n",
              "              (LayerNorm): LayerNorm((768,), eps=1e-12, elementwise_affine=True)\n",
              "              (dropout): Dropout(p=0.1, inplace=False)\n",
              "            )\n",
              "          )\n",
              "          (intermediate): BertIntermediate(\n",
              "            (dense): Linear(in_features=768, out_features=3072, bias=True)\n",
              "          )\n",
              "          (output): BertOutput(\n",
              "            (dense): Linear(in_features=3072, out_features=768, bias=True)\n",
              "            (LayerNorm): LayerNorm((768,), eps=1e-12, elementwise_affine=True)\n",
              "            (dropout): Dropout(p=0.1, inplace=False)\n",
              "          )\n",
              "        )\n",
              "        (1): BertLayer(\n",
              "          (attention): BertAttention(\n",
              "            (self): BertSelfAttention(\n",
              "              (query): Linear(in_features=768, out_features=768, bias=True)\n",
              "              (key): Linear(in_features=768, out_features=768, bias=True)\n",
              "              (value): Linear(in_features=768, out_features=768, bias=True)\n",
              "              (dropout): Dropout(p=0.1, inplace=False)\n",
              "            )\n",
              "            (output): BertSelfOutput(\n",
              "              (dense): Linear(in_features=768, out_features=768, bias=True)\n",
              "              (LayerNorm): LayerNorm((768,), eps=1e-12, elementwise_affine=True)\n",
              "              (dropout): Dropout(p=0.1, inplace=False)\n",
              "            )\n",
              "          )\n",
              "          (intermediate): BertIntermediate(\n",
              "            (dense): Linear(in_features=768, out_features=3072, bias=True)\n",
              "          )\n",
              "          (output): BertOutput(\n",
              "            (dense): Linear(in_features=3072, out_features=768, bias=True)\n",
              "            (LayerNorm): LayerNorm((768,), eps=1e-12, elementwise_affine=True)\n",
              "            (dropout): Dropout(p=0.1, inplace=False)\n",
              "          )\n",
              "        )\n",
              "        (2): BertLayer(\n",
              "          (attention): BertAttention(\n",
              "            (self): BertSelfAttention(\n",
              "              (query): Linear(in_features=768, out_features=768, bias=True)\n",
              "              (key): Linear(in_features=768, out_features=768, bias=True)\n",
              "              (value): Linear(in_features=768, out_features=768, bias=True)\n",
              "              (dropout): Dropout(p=0.1, inplace=False)\n",
              "            )\n",
              "            (output): BertSelfOutput(\n",
              "              (dense): Linear(in_features=768, out_features=768, bias=True)\n",
              "              (LayerNorm): LayerNorm((768,), eps=1e-12, elementwise_affine=True)\n",
              "              (dropout): Dropout(p=0.1, inplace=False)\n",
              "            )\n",
              "          )\n",
              "          (intermediate): BertIntermediate(\n",
              "            (dense): Linear(in_features=768, out_features=3072, bias=True)\n",
              "          )\n",
              "          (output): BertOutput(\n",
              "            (dense): Linear(in_features=3072, out_features=768, bias=True)\n",
              "            (LayerNorm): LayerNorm((768,), eps=1e-12, elementwise_affine=True)\n",
              "            (dropout): Dropout(p=0.1, inplace=False)\n",
              "          )\n",
              "        )\n",
              "        (3): BertLayer(\n",
              "          (attention): BertAttention(\n",
              "            (self): BertSelfAttention(\n",
              "              (query): Linear(in_features=768, out_features=768, bias=True)\n",
              "              (key): Linear(in_features=768, out_features=768, bias=True)\n",
              "              (value): Linear(in_features=768, out_features=768, bias=True)\n",
              "              (dropout): Dropout(p=0.1, inplace=False)\n",
              "            )\n",
              "            (output): BertSelfOutput(\n",
              "              (dense): Linear(in_features=768, out_features=768, bias=True)\n",
              "              (LayerNorm): LayerNorm((768,), eps=1e-12, elementwise_affine=True)\n",
              "              (dropout): Dropout(p=0.1, inplace=False)\n",
              "            )\n",
              "          )\n",
              "          (intermediate): BertIntermediate(\n",
              "            (dense): Linear(in_features=768, out_features=3072, bias=True)\n",
              "          )\n",
              "          (output): BertOutput(\n",
              "            (dense): Linear(in_features=3072, out_features=768, bias=True)\n",
              "            (LayerNorm): LayerNorm((768,), eps=1e-12, elementwise_affine=True)\n",
              "            (dropout): Dropout(p=0.1, inplace=False)\n",
              "          )\n",
              "        )\n",
              "        (4): BertLayer(\n",
              "          (attention): BertAttention(\n",
              "            (self): BertSelfAttention(\n",
              "              (query): Linear(in_features=768, out_features=768, bias=True)\n",
              "              (key): Linear(in_features=768, out_features=768, bias=True)\n",
              "              (value): Linear(in_features=768, out_features=768, bias=True)\n",
              "              (dropout): Dropout(p=0.1, inplace=False)\n",
              "            )\n",
              "            (output): BertSelfOutput(\n",
              "              (dense): Linear(in_features=768, out_features=768, bias=True)\n",
              "              (LayerNorm): LayerNorm((768,), eps=1e-12, elementwise_affine=True)\n",
              "              (dropout): Dropout(p=0.1, inplace=False)\n",
              "            )\n",
              "          )\n",
              "          (intermediate): BertIntermediate(\n",
              "            (dense): Linear(in_features=768, out_features=3072, bias=True)\n",
              "          )\n",
              "          (output): BertOutput(\n",
              "            (dense): Linear(in_features=3072, out_features=768, bias=True)\n",
              "            (LayerNorm): LayerNorm((768,), eps=1e-12, elementwise_affine=True)\n",
              "            (dropout): Dropout(p=0.1, inplace=False)\n",
              "          )\n",
              "        )\n",
              "        (5): BertLayer(\n",
              "          (attention): BertAttention(\n",
              "            (self): BertSelfAttention(\n",
              "              (query): Linear(in_features=768, out_features=768, bias=True)\n",
              "              (key): Linear(in_features=768, out_features=768, bias=True)\n",
              "              (value): Linear(in_features=768, out_features=768, bias=True)\n",
              "              (dropout): Dropout(p=0.1, inplace=False)\n",
              "            )\n",
              "            (output): BertSelfOutput(\n",
              "              (dense): Linear(in_features=768, out_features=768, bias=True)\n",
              "              (LayerNorm): LayerNorm((768,), eps=1e-12, elementwise_affine=True)\n",
              "              (dropout): Dropout(p=0.1, inplace=False)\n",
              "            )\n",
              "          )\n",
              "          (intermediate): BertIntermediate(\n",
              "            (dense): Linear(in_features=768, out_features=3072, bias=True)\n",
              "          )\n",
              "          (output): BertOutput(\n",
              "            (dense): Linear(in_features=3072, out_features=768, bias=True)\n",
              "            (LayerNorm): LayerNorm((768,), eps=1e-12, elementwise_affine=True)\n",
              "            (dropout): Dropout(p=0.1, inplace=False)\n",
              "          )\n",
              "        )\n",
              "        (6): BertLayer(\n",
              "          (attention): BertAttention(\n",
              "            (self): BertSelfAttention(\n",
              "              (query): Linear(in_features=768, out_features=768, bias=True)\n",
              "              (key): Linear(in_features=768, out_features=768, bias=True)\n",
              "              (value): Linear(in_features=768, out_features=768, bias=True)\n",
              "              (dropout): Dropout(p=0.1, inplace=False)\n",
              "            )\n",
              "            (output): BertSelfOutput(\n",
              "              (dense): Linear(in_features=768, out_features=768, bias=True)\n",
              "              (LayerNorm): LayerNorm((768,), eps=1e-12, elementwise_affine=True)\n",
              "              (dropout): Dropout(p=0.1, inplace=False)\n",
              "            )\n",
              "          )\n",
              "          (intermediate): BertIntermediate(\n",
              "            (dense): Linear(in_features=768, out_features=3072, bias=True)\n",
              "          )\n",
              "          (output): BertOutput(\n",
              "            (dense): Linear(in_features=3072, out_features=768, bias=True)\n",
              "            (LayerNorm): LayerNorm((768,), eps=1e-12, elementwise_affine=True)\n",
              "            (dropout): Dropout(p=0.1, inplace=False)\n",
              "          )\n",
              "        )\n",
              "        (7): BertLayer(\n",
              "          (attention): BertAttention(\n",
              "            (self): BertSelfAttention(\n",
              "              (query): Linear(in_features=768, out_features=768, bias=True)\n",
              "              (key): Linear(in_features=768, out_features=768, bias=True)\n",
              "              (value): Linear(in_features=768, out_features=768, bias=True)\n",
              "              (dropout): Dropout(p=0.1, inplace=False)\n",
              "            )\n",
              "            (output): BertSelfOutput(\n",
              "              (dense): Linear(in_features=768, out_features=768, bias=True)\n",
              "              (LayerNorm): LayerNorm((768,), eps=1e-12, elementwise_affine=True)\n",
              "              (dropout): Dropout(p=0.1, inplace=False)\n",
              "            )\n",
              "          )\n",
              "          (intermediate): BertIntermediate(\n",
              "            (dense): Linear(in_features=768, out_features=3072, bias=True)\n",
              "          )\n",
              "          (output): BertOutput(\n",
              "            (dense): Linear(in_features=3072, out_features=768, bias=True)\n",
              "            (LayerNorm): LayerNorm((768,), eps=1e-12, elementwise_affine=True)\n",
              "            (dropout): Dropout(p=0.1, inplace=False)\n",
              "          )\n",
              "        )\n",
              "        (8): BertLayer(\n",
              "          (attention): BertAttention(\n",
              "            (self): BertSelfAttention(\n",
              "              (query): Linear(in_features=768, out_features=768, bias=True)\n",
              "              (key): Linear(in_features=768, out_features=768, bias=True)\n",
              "              (value): Linear(in_features=768, out_features=768, bias=True)\n",
              "              (dropout): Dropout(p=0.1, inplace=False)\n",
              "            )\n",
              "            (output): BertSelfOutput(\n",
              "              (dense): Linear(in_features=768, out_features=768, bias=True)\n",
              "              (LayerNorm): LayerNorm((768,), eps=1e-12, elementwise_affine=True)\n",
              "              (dropout): Dropout(p=0.1, inplace=False)\n",
              "            )\n",
              "          )\n",
              "          (intermediate): BertIntermediate(\n",
              "            (dense): Linear(in_features=768, out_features=3072, bias=True)\n",
              "          )\n",
              "          (output): BertOutput(\n",
              "            (dense): Linear(in_features=3072, out_features=768, bias=True)\n",
              "            (LayerNorm): LayerNorm((768,), eps=1e-12, elementwise_affine=True)\n",
              "            (dropout): Dropout(p=0.1, inplace=False)\n",
              "          )\n",
              "        )\n",
              "        (9): BertLayer(\n",
              "          (attention): BertAttention(\n",
              "            (self): BertSelfAttention(\n",
              "              (query): Linear(in_features=768, out_features=768, bias=True)\n",
              "              (key): Linear(in_features=768, out_features=768, bias=True)\n",
              "              (value): Linear(in_features=768, out_features=768, bias=True)\n",
              "              (dropout): Dropout(p=0.1, inplace=False)\n",
              "            )\n",
              "            (output): BertSelfOutput(\n",
              "              (dense): Linear(in_features=768, out_features=768, bias=True)\n",
              "              (LayerNorm): LayerNorm((768,), eps=1e-12, elementwise_affine=True)\n",
              "              (dropout): Dropout(p=0.1, inplace=False)\n",
              "            )\n",
              "          )\n",
              "          (intermediate): BertIntermediate(\n",
              "            (dense): Linear(in_features=768, out_features=3072, bias=True)\n",
              "          )\n",
              "          (output): BertOutput(\n",
              "            (dense): Linear(in_features=3072, out_features=768, bias=True)\n",
              "            (LayerNorm): LayerNorm((768,), eps=1e-12, elementwise_affine=True)\n",
              "            (dropout): Dropout(p=0.1, inplace=False)\n",
              "          )\n",
              "        )\n",
              "        (10): BertLayer(\n",
              "          (attention): BertAttention(\n",
              "            (self): BertSelfAttention(\n",
              "              (query): Linear(in_features=768, out_features=768, bias=True)\n",
              "              (key): Linear(in_features=768, out_features=768, bias=True)\n",
              "              (value): Linear(in_features=768, out_features=768, bias=True)\n",
              "              (dropout): Dropout(p=0.1, inplace=False)\n",
              "            )\n",
              "            (output): BertSelfOutput(\n",
              "              (dense): Linear(in_features=768, out_features=768, bias=True)\n",
              "              (LayerNorm): LayerNorm((768,), eps=1e-12, elementwise_affine=True)\n",
              "              (dropout): Dropout(p=0.1, inplace=False)\n",
              "            )\n",
              "          )\n",
              "          (intermediate): BertIntermediate(\n",
              "            (dense): Linear(in_features=768, out_features=3072, bias=True)\n",
              "          )\n",
              "          (output): BertOutput(\n",
              "            (dense): Linear(in_features=3072, out_features=768, bias=True)\n",
              "            (LayerNorm): LayerNorm((768,), eps=1e-12, elementwise_affine=True)\n",
              "            (dropout): Dropout(p=0.1, inplace=False)\n",
              "          )\n",
              "        )\n",
              "        (11): BertLayer(\n",
              "          (attention): BertAttention(\n",
              "            (self): BertSelfAttention(\n",
              "              (query): Linear(in_features=768, out_features=768, bias=True)\n",
              "              (key): Linear(in_features=768, out_features=768, bias=True)\n",
              "              (value): Linear(in_features=768, out_features=768, bias=True)\n",
              "              (dropout): Dropout(p=0.1, inplace=False)\n",
              "            )\n",
              "            (output): BertSelfOutput(\n",
              "              (dense): Linear(in_features=768, out_features=768, bias=True)\n",
              "              (LayerNorm): LayerNorm((768,), eps=1e-12, elementwise_affine=True)\n",
              "              (dropout): Dropout(p=0.1, inplace=False)\n",
              "            )\n",
              "          )\n",
              "          (intermediate): BertIntermediate(\n",
              "            (dense): Linear(in_features=768, out_features=3072, bias=True)\n",
              "          )\n",
              "          (output): BertOutput(\n",
              "            (dense): Linear(in_features=3072, out_features=768, bias=True)\n",
              "            (LayerNorm): LayerNorm((768,), eps=1e-12, elementwise_affine=True)\n",
              "            (dropout): Dropout(p=0.1, inplace=False)\n",
              "          )\n",
              "        )\n",
              "      )\n",
              "    )\n",
              "    (pooler): BertPooler(\n",
              "      (dense): Linear(in_features=768, out_features=768, bias=True)\n",
              "      (activation): Tanh()\n",
              "    )\n",
              "  )\n",
              "  (dropout): Dropout(p=0.1, inplace=False)\n",
              "  (classifier): Linear(in_features=768, out_features=2, bias=True)\n",
              ")"
            ]
          },
          "metadata": {
            "tags": []
          },
          "execution_count": 17
        }
      ]
    },
    {
      "cell_type": "code",
      "metadata": {
        "id": "WX9bftmNybJ0",
        "colab_type": "code",
        "colab": {
          "base_uri": "https://localhost:8080/",
          "height": 612
        },
        "outputId": "82d84746-6918-420c-d84f-a2edb049d134"
      },
      "source": [
        "# Get all of the model's parameters as a list of tuples.\n",
        "params = list(model.named_parameters())\n",
        "\n",
        "print(\"The BERT model has {:} different named parameters.\\n\".format(len(params)))\n",
        "print(\"=== Embedding Layer ===\\n\")\n",
        "\n",
        "for p in params[0:5]:\n",
        "    print(\"{:<55} {:>12}\".format(p[0], str(tuple(p[1].size()))))\n",
        "\n",
        "print(\"\\n==== First Transformer ====\\n\")\n",
        "\n",
        "for p in params[5:21]:\n",
        "    print(\"{:<55} {:>12}\".format(p[0], str(tuple(p[1].size()))))\n",
        "\n",
        "print(\"\\n==== Output Layer====\\n\")\n",
        "\n",
        "for p in params[-4:]:\n",
        "    print(\"{:<55} {:>12}\".format(p[0], str(tuple(p[1].size()))))"
      ],
      "execution_count": null,
      "outputs": [
        {
          "output_type": "stream",
          "text": [
            "The BERT model has 201 different named parameters.\n",
            "\n",
            "=== Embedding Layer ===\n",
            "\n",
            "bert.embeddings.word_embeddings.weight                  (30522, 768)\n",
            "bert.embeddings.position_embeddings.weight                (512, 768)\n",
            "bert.embeddings.token_type_embeddings.weight                (2, 768)\n",
            "bert.embeddings.LayerNorm.weight                              (768,)\n",
            "bert.embeddings.LayerNorm.bias                                (768,)\n",
            "\n",
            "==== First Transformer ====\n",
            "\n",
            "bert.encoder.layer.0.attention.self.query.weight          (768, 768)\n",
            "bert.encoder.layer.0.attention.self.query.bias                (768,)\n",
            "bert.encoder.layer.0.attention.self.key.weight            (768, 768)\n",
            "bert.encoder.layer.0.attention.self.key.bias                  (768,)\n",
            "bert.encoder.layer.0.attention.self.value.weight          (768, 768)\n",
            "bert.encoder.layer.0.attention.self.value.bias                (768,)\n",
            "bert.encoder.layer.0.attention.output.dense.weight        (768, 768)\n",
            "bert.encoder.layer.0.attention.output.dense.bias              (768,)\n",
            "bert.encoder.layer.0.attention.output.LayerNorm.weight        (768,)\n",
            "bert.encoder.layer.0.attention.output.LayerNorm.bias          (768,)\n",
            "bert.encoder.layer.0.intermediate.dense.weight           (3072, 768)\n",
            "bert.encoder.layer.0.intermediate.dense.bias                 (3072,)\n",
            "bert.encoder.layer.0.output.dense.weight                 (768, 3072)\n",
            "bert.encoder.layer.0.output.dense.bias                        (768,)\n",
            "bert.encoder.layer.0.output.LayerNorm.weight                  (768,)\n",
            "bert.encoder.layer.0.output.LayerNorm.bias                    (768,)\n",
            "\n",
            "==== Output Layer====\n",
            "\n",
            "bert.pooler.dense.weight                                  (768, 768)\n",
            "bert.pooler.dense.bias                                        (768,)\n",
            "classifier.weight                                           (2, 768)\n",
            "classifier.bias                                                 (2,)\n"
          ],
          "name": "stdout"
        }
      ]
    },
    {
      "cell_type": "markdown",
      "metadata": {
        "id": "acXpmSC7ybJ5",
        "colab_type": "text"
      },
      "source": [
        "### Step 6-2: Optimizer & Learning Rate Scheduler\n",
        "\n",
        "- `optimizer`: 모델의 loss function 을 최소화되게 하는 모델의 파라미터들을 찾는 알고리즘\n",
        "- `learning rate scheduler`: learning rate 를 조절해주는 방법\n",
        "  - `learning rate warmup`: 초기에 learning rate 를 0 으로 설정하고 이를 일정 기간동안 heurisitc 하게 키워주는 방식 (*초기값이 너무 크면 학습이 불안정*)\n",
        "\n",
        "<center><img src=\"https://github.com/passing2961/KEMC/blob/master/warmup.png?raw=true\" width=\"50%\" height=\"50%\"  title=\"warmup\" alt=\"warmup\"></img></center>\n",
        "\n",
        "*이미지 출처: https://hoya012.github.io/blog/Bag-of-Tricks-for-Image-Classification-with-Convolutional-Neural-Networks-Review/*\n",
        "\n",
        "- `learning rate warmup` 관련 논문: https://arxiv.org/abs/1812.01187"
      ]
    },
    {
      "cell_type": "code",
      "metadata": {
        "id": "GN8StKalybJ5",
        "colab_type": "code",
        "colab": {}
      },
      "source": [
        "# Note: AdamW is a class from the huggingface library (as opposed to pytorch)\n",
        "# I believe the 'W' stands for \"Weight Decay fix\"\n",
        "optimizer = AdamW(model.parameters(), lr = 2e-5, eps = 1e-8)"
      ],
      "execution_count": null,
      "outputs": []
    },
    {
      "cell_type": "code",
      "metadata": {
        "id": "dvTMmRTvybJ8",
        "colab_type": "code",
        "colab": {
          "base_uri": "https://localhost:8080/",
          "height": 34
        },
        "outputId": "62cf9e63-bdca-4e31-f6d8-5061dde89d2b"
      },
      "source": [
        "from transformers import get_linear_schedule_with_warmup\n",
        "\n",
        "# Number of training epochs (we recommend between 2 and 4)\n",
        "epochs = 4\n",
        "\n",
        "# Total number of training steps is number of batches * number of epochs.\n",
        "print(len(train_dataloader))\n",
        "total_steps = len(train_dataloader) * epochs\n",
        "\n",
        "# Create the learning rate scheduler.\n",
        "scheduler = get_linear_schedule_with_warmup(optimizer, num_warmup_steps = 0, num_training_steps = total_steps)"
      ],
      "execution_count": null,
      "outputs": [
        {
          "output_type": "stream",
          "text": [
            "302\n"
          ],
          "name": "stdout"
        }
      ]
    },
    {
      "cell_type": "markdown",
      "metadata": {
        "id": "MdPUjq3GybKA",
        "colab_type": "text"
      },
      "source": [
        "### Step 6-3: Training Loop\n",
        "\n",
        "**Pipeline of training machine learning systems**\n",
        "\n",
        "- **Collect a data**: training/validation/test\n",
        "  - training: 실제 학습 용도\n",
        "  - validation: overfitting 방지 용도\n",
        "  - test: 실제 평가 용도\n",
        "\n",
        "- **Hypothesis set**: Design a network architecture\n",
        "\n",
        "- **Loss function**: Define a loss (objective) function\n",
        "\n",
        "- **optimize loss function**\n",
        "  - Automatic backpropagation: Compute the minibatch gradient\n",
        "  - Optimization: Update the parameters (e.g. Stochastic Gradient Descent)\n",
        "  - Earlystopping: An efficient way to prevent overfitting\n",
        "  - Adaptive learning rate\n",
        "\n",
        "위의 과정을 자세히 살펴보겠습니다.\n",
        "\n",
        "#### **Collect a data**\n",
        "\n",
        "먼저, 학습시키기 위해서는 데이터가 필요합니다. 이를 위해 데이터를 수집합니다. 이 경우에 직접 크롤링을 통해 데이터를 수집할 수도 있지만, 보통은 benchmark 처럼 기존에 표준처럼 사용되는 데이터를 사용합니다. 이렇게 수집한 이후에는 데이터를 train/validation/test 3개의 데이터셋으로 나눕니다. Training dataset 은 실제 모델의 학습을 위해 필요합니다. Valdiation dataset 은 검증 데이터셋으로써, 모델이 학습 도중에 너무 학습 데이터만 기억하게 되는 overfitting (memorization) 이 일어나는 것을 방지하기 위해 필요합니다. Test dataset 은 실제 학습된 모델의 성능을 평가하기 위해 필요합니다.\n",
        "\n",
        "#### **Hypothesis set**\n",
        "\n",
        "데이터를 수집한 이후에는 주어진 task 에 대해서 어떤 모델 (neural network) 를 사용 혹은 고안할지 결정합니다. 예를 들어, 이미지가 고양이인지 강아지인지 분류하는 문제에서는 hypothesis set 은 [VGGnet], [GoogLeNet], [ResNet] 등이 포함될 수 있습니다. 즉, hypothesis set 은 무한 (infinite) 합니다.\n",
        "\n",
        "#### **Loss function**\n",
        "\n",
        "어떤 모델을 사용할지 결정하였으면, 해당 모델에서 loss function 을 설계합니다. 예를 들어, classification 문제의 경우에는 hinge loss, log loss 등이 있고, regression 문제의 경우에는 mean squared error (MSE), mean absolute error, robust loss 등이 있습니다. 그러나 대부분의 딥러닝 모델들은 **distribution-based loss function** 을 사용합니다. Distribution-based loss function 의 distribution 은 입력 x 가 주어졌을 때, 출력 y 가 특정 y' 값일 경우가 얼마나 가능한지 (혹은 그럴듯한지) 를 확인합니다. \n",
        "\n",
        "<center><img src=\"https://github.com/passing2961/KEMC/blob/master/dist_loss.png?raw=true\" width=\"40%\" height=\"30%\"  title=\"dist_loss\" alt=\"dist_loss\"></img></center>\n",
        "    \n",
        "위의 수식이 distribution-based loss function 의 distribution 에 해당합니다. 그렇다면, 등식의 우변항이 어떤 종류의 문제이냐에 따라 distribution 이 달라집니다.\n",
        "\n",
        "- Binary classification: Bernoulli distribution\n",
        "- Multiclass classification: Categorical distribution\n",
        "- Linear regression: Gaussian distribution\n",
        "- Multimodal linear regression: Mixture of Gaussians\n",
        "\n",
        "이렇게 distribution 을 정하고 나면, 위의 conditional probability 수식이 training data 에 대해서 **maximally likely** 해야합니다. 아래의 수식에 해당합니다.\n",
        "\n",
        "<center><img src=\"https://github.com/passing2961/KEMC/blob/master/log_prob.png?raw=true\" width=\"50%\" height=\"40%\"  title=\"log_prob\" alt=\"log_prob\"></img></center>\n",
        "\n",
        "위의 수식이 **log-likelihood** 라고 부르고, 해당 수식을 최대화 되게끔 학습이 이루어집니다. 그런데 Loss function 은 최소화되어야하므로 아래의 수식처럼 log-likelihood 앞에 (-) 를 붙입니다. 이를 **negative log-likelihood** 라고 부르고, distribution-based loss function 이 됩니다.\n",
        "\n",
        "<center><img src=\"https://github.com/passing2961/KEMC/blob/master/nll.png?raw=true\" width=\"40%\" height=\"30%\"  title=\"nll\" alt=\"nll\"></img></center>\n",
        "\n",
        "#### **optimizer loss function**\n",
        "\n",
        "이렇게 loss function 을 결정한 이후에, 해당 loss 값을 최소화시키기 위해 어떻게 해야할까요? 고등수학으로 돌아가보면, 미분가능한 함수에서 최솟값은 미분값이 0인 지점이라는 것을 알 수 있습니다. 이 원리를 이용해서, gradient-based optimization 방법이 제안되었습니다.\n",
        "\n",
        "<center><img src=\"https://github.com/passing2961/KEMC/blob/master/gradient.png?raw=true\" width=\"60%\" height=\"50%\"  title=\"gradient\" alt=\"gradient\"></img></center>\n",
        "\n",
        "Gradient-based optimization 알고리즘을 살펴보면 아래와 같습니다.\n",
        "\n",
        "<center><img src=\"https://github.com/passing2961/KEMC/blob/master/gradient_alg.png?raw=true\" width=\"60%\" height=\"50%\"  title=\"gradient_alg\" alt=\"gradient_alg\"></img></center>\n",
        "\n",
        "그러나 해당 방법은 **모든 데이터에 대해서 한번에 gradient 를 계산해야하므로 비용이 많이 든다**는 문제점이 있습니다. 이를 해결하기 위해, 전체 데이터 셋에서 랜덤하게 하나만 샘플링해서 gradient 를 계산하는 방법인 **stochastic gradient descent** 방법이 제안되었습니다.\n",
        "\n",
        "<center><img src=\"https://github.com/passing2961/KEMC/blob/master/stochastic_alg.png?raw=true\" width=\"60%\" height=\"50%\"  title=\"stochastic_alg\" alt=\"stochastic_alg\"></img></center>\n",
        "\n",
        "위의 방법은 gradient-based optimization 방법보다는 효율적으로 계산이 가능하지만, **굉장히 noisy 하다**는 문제점이 있습니다. 만약 데이터 하나가 전체 데이터셋을 나타내는 표본이 아닌 경우에는, noise 가 있는 데이터 하나를 샘플링하게 되는 것이고 그렇게 되면 optimization 자체는 noise 가 있을 수 밖에 없습니다. 따라서, 데이터 하나를 샘플링하는 것이 아니라 묶음 단위로 하는 방법인 **minibatch stochastic gradient descent** 방법이 제안되었습니다.\n",
        "\n",
        "<center><img src=\"https://github.com/passing2961/KEMC/blob/master/mini_stochastic.png?raw=true\" width=\"60%\" height=\"50%\"  title=\"mini_stochastic\" alt=\"mini_stochastic\"></img></center>\n",
        "\n",
        "이렇게 모델의 학습을 진행하면 학습 모델의 loss 값이 계속 낮아지도록 학습이 이루어집니다. 그런데, 모델의 training loss 값이 낮은게 정말 좋은 모델을 의미할까요?\n",
        "\n",
        "<center><img src=\"https://github.com/passing2961/KEMC/blob/master/overfitting.png?raw=true\" width=\"70%\" height=\"60%\"  title=\"overfitting\" alt=\"overfitting\"></img></center>\n",
        "\n",
        "위의 그림을 보시면, 오른쪽 모델의 training loss 가 제일 낮은 것을 확인할 수 있습니다. 그러나 해당 모델이 제일 좋다고는 말할 수 없습니다. 왜냐하면 모델이 학습 데이터에 대해서는 좋은 성능을 보일 수 있어도, 너무 학습 데이터에만 과하게 학습이 되어서 새로운 (처음보는) 데이터가 들어왔을 때는 성능이 좋지 않을 수 있습니다. 이런 문제를 **overfitting** 이라고 부릅니다. Overfitting 현상은 모델이 학습 데이터를 일종의 **\"memorize\"** 현상이라고 볼 수 있습니다. **보통 training loss 는 낮은데, test error 는 높아질 때 발생합니다.** 또한, 모델의 parameter 가 training data 수보다 많은 경우에 일반적으로 발생합니다.\n",
        "\n",
        "이를 해결하는 방법 (Regularization) 이 대표적으로 **weight decay, dropout, early stopping** 이 있습니다. \n",
        "\n",
        "- **weigth decay**: Penalize complex solution using **additional constraints**\n",
        "\n",
        "<center><img src=\"https://github.com/passing2961/KEMC/blob/master/weight_decay.png?raw=true\" width=\"70%\" height=\"60%\"  title=\"weight_decay\" alt=\"weight_decay\"></img></center>\n",
        "\n",
        "- **Dropout**: **Randomly turn off** activations with some probability p\n",
        "\n",
        "<center><img src=\"https://github.com/passing2961/KEMC/blob/master/dropout.png?raw=true\" width=\"70%\" height=\"60%\"  title=\"dropout\" alt=\"dropout\"></img></center>\n",
        "\n",
        "- **Early stopping**: Stop training once the validation loss starts to increase\n",
        "\n",
        "<center><img src=\"https://github.com/passing2961/KEMC/blob/master/earlystopping.png?raw=true\" width=\"70%\" height=\"60%\"  title=\"earlystopping\" alt=\"earlystopping\"></img></center>\n",
        "\n",
        "*이미지 출처: MIT 6.S191: Introduction to Deep Learning*\n",
        "\n",
        "이렇게 Regularization 의 대표적인 3가지 기법들을 알아보았습니다. 그렇다면, 실제로 minibatch stochastic gradient descent 가 어떻게 이루어질까요?\n",
        "\n",
        "1. random 하게 batch 단위의 데이터를 불러오기\n",
        "2. minibatch gradient 계산\n",
        "3. 모델의 parameter 들 업데이트\n",
        "4. validation loss 가 더이상 좋아지지 않을 때까지 1, 2, 3 과정 반복\n",
        "\n",
        "[Adam optimizer]: https://arxiv.org/abs/1412.6980\n",
        "\n",
        "stochastic gradient descent 방법은 learning rate 를 고정시키고 학습을 진행하는데, 고정시킨 learning rate 값이 모델의 학습을 불안정 시키게 할 수 있습니다. 이를 위해 adaptive 하게 learning rate 를 조절하는 optimization 방법이 제안되었습니다. 대표적으로 **[Adam optimizer]** 가 있습니다. 현재 제일 많이 사용되는 optimizer 입니다. 본 실습에서도 Adam optimizer 를 사용할 것입니다. 아래는 optimizer 관련 계보입니다.\n",
        "\n",
        "<center><img src=\"https://github.com/passing2961/KEMC/blob/master/optimizers.png?raw=true\" width=\"70%\" height=\"60%\"  title=\"optimizers\" alt=\"optimizers\"></img></center>\n",
        "\n",
        "\n",
        "\n",
        "#### **본 실습에서 학습 과정**\n",
        "\n",
        "- `DataLoader` 를 통해 data 와 label 배치사이즈 단위로 가져오기\n",
        "- Forward pass: data 와 label 을 `BertForSequenceClassification` 모델에 입력으로 주기\n",
        "- Backward pass:\n",
        "  - minibatch gradient 계산 (backpropagation)\n",
        "  - 모델의 파라미터들 업데이트 (optimization)\n",
        "  \n"
      ]
    },
    {
      "cell_type": "code",
      "metadata": {
        "id": "Pigy1CqrybKA",
        "colab_type": "code",
        "colab": {}
      },
      "source": [
        "# Function to calculate the accuracy of our predictions vs labels\n",
        "def flat_accuracy(preds, labels):\n",
        "    pred_flat = np.argmax(preds, axis=-1).flatten()\n",
        "    labels_flat = labels.flatten()\n",
        "    return np.sum(pred_flat == labels_flat) / len(labels_flat)"
      ],
      "execution_count": null,
      "outputs": []
    },
    {
      "cell_type": "code",
      "metadata": {
        "id": "zXBpr-HAybKD",
        "colab_type": "code",
        "colab": {}
      },
      "source": [
        "import time\n",
        "import datetime\n",
        "\n",
        "def format_time(elapsed):\n",
        "    '''\n",
        "    Take a time in seconds and returns a string hh:mm:ss\n",
        "    '''\n",
        "    # Round to the nearest second.\n",
        "    elapsed_rounded = int(round(elapsed))\n",
        "    \n",
        "    # Format as hh:mm:ss\n",
        "    return str(datetime.timedelta(seconds=elapsed_rounded))"
      ],
      "execution_count": null,
      "outputs": []
    },
    {
      "cell_type": "code",
      "metadata": {
        "id": "f0QRDrYcybKG",
        "colab_type": "code",
        "colab": {}
      },
      "source": [
        "import random\n",
        "\n",
        "# Set the seed value all over the place to make this reproducible\n",
        "def set_seed(seed_val):\n",
        "    random.seed(seed_val)\n",
        "    np.random.seed(seed_val)\n",
        "    torch.manual_seed(seed_val)\n",
        "    torch.cuda.manual_seed_all(seed_val)"
      ],
      "execution_count": null,
      "outputs": []
    },
    {
      "cell_type": "code",
      "metadata": {
        "id": "rOCgIIrpybKI",
        "colab_type": "code",
        "colab": {
          "base_uri": "https://localhost:8080/",
          "height": 1000
        },
        "outputId": "f4590879-0267-4af6-9b53-3e88c03cf16a"
      },
      "source": [
        "# This training code is based on the `run_glue.py` script here:\n",
        "# https://github.com/huggingface/transformers/blob/5bfcd0485ece086ebcbed2d008813037968a9e58/examples/run_glue.py#L128\n",
        "\n",
        "seed_val = 42\n",
        "set_seed(seed_val)\n",
        "\n",
        "# Store the average loss after each epoch so we can plot them\n",
        "loss_values = []\n",
        "\n",
        "# For each epoch\n",
        "for epoch in range(0, epochs):\n",
        "    \n",
        "    # ========================================\n",
        "    #               Training\n",
        "    # ========================================\n",
        "    \n",
        "    # Perform one full pass over the training set.\n",
        "    \n",
        "    print(\"\")\n",
        "    print('======== Epoch {:} / {:} ========'.format(epoch + 1, epochs))\n",
        "    print('Training...')\n",
        "    \n",
        "    # Measure how long the training epoch takes.\n",
        "    t0 = time.time()\n",
        "    \n",
        "    # Reset the total loss for this epoch.\n",
        "    total_loss = 0.\n",
        "    \n",
        "    # Put the model into training mode.\n",
        "    # Don't be mislead -- the call to 'train' just changes the \"mode\", it doesn't \"perform\" the training.\n",
        "    # 'dropout' and 'bachnorm' layers behave differently during training vs test\n",
        "    model.train()\n",
        "    \n",
        "    # For each batch of training data\n",
        "    for step, batch in enumerate(train_dataloader):\n",
        "        \n",
        "        # Progress update every 40 batches.\n",
        "        if step % 40 == 0 and not step == 0:\n",
        "            # Calculate elapsed time in minutes.\n",
        "            elapsed = format_time(time.time() - t0)\n",
        "            \n",
        "            # Report progress\n",
        "            print(\"Batch {:>5,} of {:>5,}. Elapsed: {:}.\".format(step, len(train_dataloader), elapsed))\n",
        "        \n",
        "        # Unpack this training batch from our dataloader. \n",
        "        #\n",
        "        # As we unpack the batch, we'll also copy each tensor to the GPU using the \n",
        "        # `to` method.\n",
        "        #\n",
        "        # `batch` contains three pytorch tensors:\n",
        "        #   [0]: input ids \n",
        "        #   [1]: attention masks\n",
        "        #   [2]: labels \n",
        "        b_input_ids = batch[0].to(device)\n",
        "        b_input_mask = batch[1].to(device)\n",
        "        b_labels = batch[2].to(device)\n",
        "        \n",
        "        # Always clear any previously calculated gradients before performing a\n",
        "        # backward pass. PyTorch doesn't do this automatically because \n",
        "        # accumulating the gradients is \"convenient while training RNNs\". \n",
        "        # (source: https://stackoverflow.com/questions/48001598/why-do-we-need-to-call-zero-grad-in-pytorch)\n",
        "        model.zero_grad()\n",
        "        \n",
        "        # Perform a forward pass (evaluate the model on this training batch).\n",
        "        # This will return the loss (rather than the model output) because we\n",
        "        # have provided the `labels`.\n",
        "        # The documentation for this `model` function is here: \n",
        "        # https://huggingface.co/transformers/v2.2.0/model_doc/bert.html#transformers.BertForSequenceClassification\n",
        "        outputs = model(b_input_ids, token_type_ids=None, attention_mask=b_input_mask, labels=b_labels)\n",
        "        \n",
        "        # The call to `model` always returns a tuple, so we need to pull the \n",
        "        # loss value out of the tuple.\n",
        "        loss = outputs[0]\n",
        "        \n",
        "        # Accumulate the training loss over all of the batches so that we can\n",
        "        # calculate the average loss at the end. `loss` is a Tensor containing a\n",
        "        # single value; the `.item()` function just returns the Python value from the tensor.\n",
        "        total_loss += loss.item()\n",
        "        \n",
        "        # Perform a backward pass to calculate the gradients.\n",
        "        loss.backward()\n",
        "        \n",
        "        # Clip the norm of the gradients to 1.0.\n",
        "        # This is to help prevent the \"exploding gradients\" problem.\n",
        "        torch.nn.utils.clip_grad_norm_(model.parameters(), 1.0)\n",
        "        \n",
        "        # Update parameters and take a step using the computed gradient.\n",
        "        # The optimizer dictates the \"update rule\"--how the parameters are\n",
        "        # modified based on their gradients, the learning rate, etc.        \n",
        "        optimizer.step()\n",
        "        \n",
        "        # Update the learning rate.\n",
        "        scheduler.step()\n",
        "    \n",
        "    # Calculate the average loss over the training data.\n",
        "    avg_train_loss = total_loss / len(train_dataloader)\n",
        "    \n",
        "    # Store the loss value for plotting the learning curve.\n",
        "    loss_values.append(avg_train_loss)\n",
        "    \n",
        "    print(\"\")\n",
        "    print(\"Average training loss: {0:.2f}\".format(avg_train_loss))\n",
        "    print(\"Training epoch took: {:}\".format(format_time(time.time() - t0)))\n",
        "    \n",
        "    # ========================================\n",
        "    #               Validation\n",
        "    # ========================================\n",
        "    # After the completion of each training epoch, measure our performance on our validation set.\n",
        "    \n",
        "    print(\"\")\n",
        "    print(\"Running Validation...\")\n",
        "    \n",
        "    t0 = time.time()\n",
        "    \n",
        "    # Put the model in evaluation mode -- the dropout layers behave differently during evaluation\n",
        "    model.eval()\n",
        "    \n",
        "    # Tracking variables\n",
        "    eval_loss, eval_acc = 0., 0.\n",
        "    \n",
        "    # Evaluate data for one epoch\n",
        "    for valid_step, batch in enumerate(valid_dataloader):\n",
        "        \n",
        "        # Add batch to GPU\n",
        "        batch = tuple(t.to(device) for t in batch)\n",
        "        \n",
        "        # Unpack the inputs from our dataloader\n",
        "        b_input_ids, b_input_mask, b_labels = batch\n",
        "        \n",
        "        # Telling the model not to compute or store gradients, saving memory and speeding up validation\n",
        "        with torch.no_grad():\n",
        "            \n",
        "            # Forward pass, calculate logit predictions.\n",
        "            # This will return the logits rather than the loss because we have not provided labels.\n",
        "            outputs = model(b_input_ids, token_type_ids=None, attention_mask=b_input_mask)\n",
        "            \n",
        "        # Get the \"logits\" output by the model.\n",
        "        # The \"logits\" are the output values prior to applying an activation function like the softmax\n",
        "        logits = outputs[0]\n",
        "        \n",
        "        # Move logits and labels to CPU\n",
        "        logits = logits.detach().cpu().numpy()\n",
        "        label_ids = b_labels.to('cpu').numpy()\n",
        "        \n",
        "        # Calculate the accuracy for this batch of test sentences.\n",
        "        tmp_eval_acc = flat_accuracy(logits, label_ids)\n",
        "        \n",
        "        # Accumulate the total accuracy.\n",
        "        eval_acc += tmp_eval_acc        \n",
        "    \n",
        "    # Report the final accuracy for this validation run.\n",
        "    print(\"Accuracy: {0:.2f}\".format(eval_acc / (valid_step + 1)))\n",
        "    print(\"Validation took: {:}\".format(format_time(time.time() - t0)))\n",
        "\n",
        "print(\"\")\n",
        "print(\"Training complete!\")        "
      ],
      "execution_count": null,
      "outputs": [
        {
          "output_type": "stream",
          "text": [
            "\n",
            "======== Epoch 1 / 4 ========\n",
            "Training...\n",
            "Batch    40 of   302. Elapsed: 0:00:26.\n",
            "Batch    80 of   302. Elapsed: 0:00:51.\n",
            "Batch   120 of   302. Elapsed: 0:01:16.\n",
            "Batch   160 of   302. Elapsed: 0:01:42.\n",
            "Batch   200 of   302. Elapsed: 0:02:07.\n",
            "Batch   240 of   302. Elapsed: 0:02:33.\n",
            "Batch   280 of   302. Elapsed: 0:02:58.\n",
            "\n",
            "Average training loss: 0.17\n",
            "Training epoch took: 0:03:12\n",
            "\n",
            "Running Validation...\n",
            "Accuracy: 0.97\n",
            "Validation took: 0:00:07\n",
            "\n",
            "======== Epoch 2 / 4 ========\n",
            "Training...\n",
            "Batch    40 of   302. Elapsed: 0:00:25.\n",
            "Batch    80 of   302. Elapsed: 0:00:51.\n",
            "Batch   120 of   302. Elapsed: 0:01:16.\n",
            "Batch   160 of   302. Elapsed: 0:01:42.\n",
            "Batch   200 of   302. Elapsed: 0:02:07.\n",
            "Batch   240 of   302. Elapsed: 0:02:33.\n",
            "Batch   280 of   302. Elapsed: 0:02:58.\n",
            "\n",
            "Average training loss: 0.06\n",
            "Training epoch took: 0:03:12\n",
            "\n",
            "Running Validation...\n",
            "Accuracy: 0.97\n",
            "Validation took: 0:00:07\n",
            "\n",
            "======== Epoch 3 / 4 ========\n",
            "Training...\n",
            "Batch    40 of   302. Elapsed: 0:00:25.\n",
            "Batch    80 of   302. Elapsed: 0:00:51.\n",
            "Batch   120 of   302. Elapsed: 0:01:16.\n",
            "Batch   160 of   302. Elapsed: 0:01:41.\n",
            "Batch   200 of   302. Elapsed: 0:02:07.\n",
            "Batch   240 of   302. Elapsed: 0:02:32.\n",
            "Batch   280 of   302. Elapsed: 0:02:57.\n",
            "\n",
            "Average training loss: 0.03\n",
            "Training epoch took: 0:03:11\n",
            "\n",
            "Running Validation...\n",
            "Accuracy: 0.97\n",
            "Validation took: 0:00:07\n",
            "\n",
            "======== Epoch 4 / 4 ========\n",
            "Training...\n",
            "Batch    40 of   302. Elapsed: 0:00:25.\n",
            "Batch    80 of   302. Elapsed: 0:00:51.\n",
            "Batch   120 of   302. Elapsed: 0:01:16.\n",
            "Batch   160 of   302. Elapsed: 0:01:41.\n",
            "Batch   200 of   302. Elapsed: 0:02:06.\n",
            "Batch   240 of   302. Elapsed: 0:02:32.\n",
            "Batch   280 of   302. Elapsed: 0:02:57.\n",
            "\n",
            "Average training loss: 0.01\n",
            "Training epoch took: 0:03:11\n",
            "\n",
            "Running Validation...\n",
            "Accuracy: 0.97\n",
            "Validation took: 0:00:07\n",
            "\n",
            "Training complete!\n"
          ],
          "name": "stdout"
        }
      ]
    },
    {
      "cell_type": "code",
      "metadata": {
        "id": "7HEWjeywybKL",
        "colab_type": "code",
        "colab": {
          "base_uri": "https://localhost:8080/",
          "height": 481
        },
        "outputId": "24f9f361-6db2-4f7d-832f-b2c7b622c3d1"
      },
      "source": [
        "# visualize training loss over all batches\n",
        "import matplotlib.pyplot as plt\n",
        "% matplotlib inline\n",
        "\n",
        "import seaborn as sns\n",
        "\n",
        "# Use plot styling from seaborn.\n",
        "sns.set(style='darkgrid')\n",
        "\n",
        "# Increase the plot size and font size.\n",
        "sns.set(font_scale=1.5)\n",
        "plt.rcParams[\"figure.figsize\"] = (12,6)\n",
        "\n",
        "# Plot the learning curve.\n",
        "plt.plot(loss_values, 'b-o')\n",
        "\n",
        "# Label the plot.\n",
        "plt.title(\"Training loss\")\n",
        "plt.xlabel(\"Epoch\")\n",
        "plt.ylabel(\"Loss\")\n",
        "\n",
        "plt.show()"
      ],
      "execution_count": null,
      "outputs": [
        {
          "output_type": "stream",
          "text": [
            "/usr/local/lib/python3.6/dist-packages/statsmodels/tools/_testing.py:19: FutureWarning: pandas.util.testing is deprecated. Use the functions in the public API at pandas.testing instead.\n",
            "  import pandas.util.testing as tm\n"
          ],
          "name": "stderr"
        },
        {
          "output_type": "display_data",
          "data": {
            "image/png": "[encoded data removed]",
            "text/plain": [
              "<Figure size 864x432 with 1 Axes>"
            ]
          },
          "metadata": {
            "tags": []
          }
        }
      ]
    },
    {
      "cell_type": "markdown",
      "metadata": {
        "id": "qVQTc7Yd5wR8",
        "colab_type": "text"
      },
      "source": [
        "## Step 7: Performance on Test set\n",
        "\n",
        "- `sklearn` 라이브러리의 `classification_report` 함수 이용하여 **accuracy, precision, recall, f1 score** 평가 지표를 이용하여 test dataset 에 대해 성능 확인\n",
        "  - dataset 의 label 이 균형적인 경우 (balanced data): **accuracy**\n",
        "  - dataset 의 label 이 불균형적인 경우 (imbalanced data): **f1 score**"
      ]
    },
    {
      "cell_type": "markdown",
      "metadata": {
        "id": "eE5hAam9WjWf",
        "colab_type": "text"
      },
      "source": [
        "### Step 7-1: Load Amazon Review Test Dataset\n"
      ]
    },
    {
      "cell_type": "code",
      "metadata": {
        "id": "jQkChrxk5YLN",
        "colab_type": "code",
        "colab": {
          "base_uri": "https://localhost:8080/",
          "height": 51
        },
        "outputId": "a669db3a-72a1-4030-eb41-9f8526970df1"
      },
      "source": [
        "# pickle 모듈로 파일 load\n",
        "with open(test_data, 'rb') as f:\n",
        "    test_data = pc.load(f)\n",
        "with open(test_label, 'rb') as f:\n",
        "    test_label = pc.load(f)\n",
        "\n",
        "print(\"Size of test data: {}\".format(len(test_data)))\n",
        "print(\"Size of test label: {}\".format(len(test_label)))"
      ],
      "execution_count": null,
      "outputs": [
        {
          "output_type": "stream",
          "text": [
            "Size of test data: 174\n",
            "Size of test label: 174\n"
          ],
          "name": "stdout"
        }
      ]
    },
    {
      "cell_type": "markdown",
      "metadata": {
        "id": "y8GJHfrEW39t",
        "colab_type": "text"
      },
      "source": [
        "### Step 7-2: Tokenization & Input Formatting\n",
        "\n",
        "본 단계에서는 fine-tuning layer 까지 학습한 BERT 모델의 입력 format 에 맞게 amazon review test dataset 을 변환해줍니다. (*위에서 진행한 방법과 동일*)"
      ]
    },
    {
      "cell_type": "code",
      "metadata": {
        "id": "PIg14zYC50F1",
        "colab_type": "code",
        "colab": {}
      },
      "source": [
        "# Tokenize all of the sentences and map the tokens to thier word IDs.\n",
        "input_ids = []\n",
        "\n",
        "# For every sentence...\n",
        "for sent in test_data:\n",
        "    # `encode` will:\n",
        "    #   (1) Tokenize the sentence.\n",
        "    #   (2) Prepend the `[CLS]` token to the start.\n",
        "    #   (3) Append the `[SEP]` token to the end.\n",
        "    #   (4) Map tokens to their IDs.\n",
        "    encoded_sent = tokenizer.encode(\n",
        "                        sent,                      # Sentence to encode.\n",
        "                        add_special_tokens = True, # Add '[CLS]' and '[SEP]'\n",
        "                   )\n",
        "    \n",
        "    input_ids.append(encoded_sent)\n",
        "\n",
        "# Pad our input tokens\n",
        "input_ids = tf.keras.preprocessing.sequence.pad_sequences(input_ids, maxlen=MAXLEN, \n",
        "                          dtype=\"long\", truncating=\"post\", padding=\"post\")\n",
        "\n",
        "# Create attention masks\n",
        "attention_masks = []\n",
        "\n",
        "# For every sentence\n",
        "for sent in input_ids:\n",
        "    # Create the attention mask.\n",
        "    #  - If a token ID is 0, then it's padding, set the mask to 0.\n",
        "    #  - If a token ID is not 0 ( > 0), then it's a real token, set the mask to 1.\n",
        "    att_mask = [int(token_id > 0) for token_id in sent]\n",
        "    \n",
        "    # Store the attention mask for this sentence.\n",
        "    attention_masks.append(att_mask)\n",
        "\n",
        "# Convert to tensors.\n",
        "prediction_inputs = torch.tensor(input_ids)\n",
        "prediction_masks = torch.tensor(attention_masks)\n",
        "prediction_labels = torch.tensor(test_label)\n",
        "\n",
        "# Set the batch size.  \n",
        "batch_size = 32  \n",
        "\n",
        "# Create the DataLoader.\n",
        "prediction_data = TensorDataset(prediction_inputs, prediction_masks, prediction_labels)\n",
        "prediction_sampler = SequentialSampler(prediction_data)\n",
        "prediction_dataloader = DataLoader(prediction_data, sampler=prediction_sampler, batch_size=batch_size)"
      ],
      "execution_count": null,
      "outputs": []
    },
    {
      "cell_type": "markdown",
      "metadata": {
        "id": "f-dlllY7XkJ-",
        "colab_type": "text"
      },
      "source": [
        "### Step 7-3: Evaluate on Test Set\n",
        "\n",
        "- `.detach()`: tensor 가 기록을 추적하는 것을 중단하게 해주는 함수"
      ]
    },
    {
      "cell_type": "code",
      "metadata": {
        "id": "9PK69aZG6kWt",
        "colab_type": "code",
        "colab": {
          "base_uri": "https://localhost:8080/",
          "height": 51
        },
        "outputId": "787537cb-3689-4abf-c762-1ec8828c488a"
      },
      "source": [
        "# Prediction on test set\n",
        "\n",
        "print('Predicting labels for {:,} test sentences...'.format(len(prediction_inputs)))\n",
        "\n",
        "# Put model in evaluation mode\n",
        "model.eval()\n",
        "\n",
        "# Tracking variables \n",
        "predictions , true_labels = [], []\n",
        "\n",
        "# Predict \n",
        "for batch in prediction_dataloader:\n",
        "  # Add batch to GPU\n",
        "  batch = tuple(t.to(device) for t in batch)\n",
        "  \n",
        "  # Unpack the inputs from our dataloader\n",
        "  b_input_ids, b_input_mask, b_labels = batch\n",
        "  \n",
        "  # Telling the model not to compute or store gradients, saving memory and \n",
        "  # speeding up prediction\n",
        "  with torch.no_grad():\n",
        "      # Forward pass, calculate logit predictions\n",
        "      outputs = model(b_input_ids, token_type_ids=None, attention_mask=b_input_mask)\n",
        "\n",
        "  logits = outputs[0]\n",
        "\n",
        "  # Move logits and labels to CPU\n",
        "  logits = logits.detach().cpu().numpy()\n",
        "  label_ids = b_labels.to('cpu').numpy()\n",
        "\n",
        "  # Store predictions and true labels\n",
        "  predictions.extend(np.argmax(logits, axis=1).flatten())\n",
        "  true_labels.extend(label_ids.flatten())\n",
        "\n",
        "\n",
        "print('DONE.')"
      ],
      "execution_count": null,
      "outputs": [
        {
          "output_type": "stream",
          "text": [
            "Predicting labels for 174 test sentences...\n",
            "DONE.\n"
          ],
          "name": "stdout"
        }
      ]
    },
    {
      "cell_type": "code",
      "metadata": {
        "id": "Q3o8SfUnV--K",
        "colab_type": "code",
        "colab": {
          "base_uri": "https://localhost:8080/",
          "height": 170
        },
        "outputId": "a1733371-7b60-4128-d487-0c3fd4092b42"
      },
      "source": [
        "# accuracy, precision, recall, f1 score 성능 확인\n",
        "from sklearn.metrics import classification_report\n",
        "    \n",
        "target_names = ['negative', 'positive']\n",
        "\n",
        "print(classification_report(true_labels, predictions, digits=4, target_names=target_names))"
      ],
      "execution_count": null,
      "outputs": [
        {
          "output_type": "stream",
          "text": [
            "              precision    recall  f1-score   support\n",
            "\n",
            "    negative     0.9474    0.8276    0.8834        87\n",
            "    positive     0.8469    0.9540    0.8973        87\n",
            "\n",
            "    accuracy                         0.8908       174\n",
            "   macro avg     0.8972    0.8908    0.8904       174\n",
            "weighted avg     0.8972    0.8908    0.8904       174\n",
            "\n"
          ],
          "name": "stdout"
        }
      ]
    },
    {
      "cell_type": "markdown",
      "metadata": {
        "id": "iFz-r33cZM5q",
        "colab_type": "text"
      },
      "source": [
        "## Appendix\n",
        "\n",
        "**Timeline for some major NLP projects before BERT**\n",
        "\n",
        "<center><img src=\"https://github.com/passing2961/KEMC/blob/master/before_bert.png?raw=true\" width=\"100%\" height=\"100%\" title=\"beforeBERT\" alt=\"beforeBERT\"></img></center>\n",
        "\n",
        "**Timeline for projects after BERT**\n",
        "\n",
        "<center><img src=\"https://github.com/passing2961/KEMC/blob/master/after_bert.png?raw=true\" width=\"100%\" height=\"100%\" title=\"afterBERT\" alt=\"afterBERT\"></img></center>\n",
        "\n",
        "**GLUE benchmark leaderboard**\n",
        "(*2020.02.04 기준*)\n",
        "\n",
        "<center><img src=\"https://github.com/passing2961/KEMC/blob/master/current_glue.png?raw=true\" width=\"100%\" height=\"100%\" title=\"currentGLUE\" alt=\"currentGLUE\"></img></center>\n",
        "\n",
        "\n",
        "**SuperGLUE benchmark leaderboard**\n",
        "(*2020.02.04 기준*)\n",
        "\n",
        "<center><img src=\"https://github.com/passing2961/KEMC/blob/master/superglue.png?raw=true\" width=\"100%\" height=\"100%\" title=\"SuperGLUE\" alt=\"SuperGLUE\"></img></center>\n",
        "\n",
        "\n",
        "\n",
        "*이미지 출처: https://towardsdatascience.com/2019-year-of-bert-and-transformer-f200b53d05b9*\n",
        "\n",
        "\n",
        "**Paper related with BERT**\n",
        "\n",
        "- Transformer-XL: https://arxiv.org/abs/1901.02860\n",
        "- GPT-2: https://d4mucfpksywv.cloudfront.net/better-language-models/language_models_are_unsupervised_multitask_learners.pdf\n",
        "- ERNIE: https://arxiv.org/abs/1905.07129\n",
        "- XLNet: https://arxiv.org/abs/1906.08237\n",
        "- RoBERTa: https://arxiv.org/abs/1907.11692\n",
        "- CTRL: https://arxiv.org/abs/1909.05858\n",
        "- ALBERT: https://arxiv.org/abs/1909.11942"
      ]
    },
    {
      "cell_type": "code",
      "metadata": {
        "id": "5qH_FBEWslsB",
        "colab_type": "code",
        "colab": {}
      },
      "source": [
        ""
      ],
      "execution_count": null,
      "outputs": []
    }
  ]
}